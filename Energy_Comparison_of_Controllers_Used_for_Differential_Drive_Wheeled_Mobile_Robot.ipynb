{
  "nbformat": 4,
  "nbformat_minor": 0,
  "metadata": {
    "kernelspec": {
      "display_name": "Python 3",
      "language": "python",
      "name": "python3"
    },
    "language_info": {
      "codemirror_mode": {
        "name": "ipython",
        "version": 3
      },
      "file_extension": ".py",
      "mimetype": "text/x-python",
      "name": "python",
      "nbconvert_exporter": "python",
      "pygments_lexer": "ipython3",
      "version": "3.7.4"
    },
    "colab": {
      "name": "Energy Comparison of Controllers Used for Differential Drive Wheeled Mobile Robot.ipynb",
      "provenance": [],
      "collapsed_sections": [],
      "toc_visible": true
    },
    "widgets": {
      "application/vnd.jupyter.widget-state+json": {
        "17a18408c47d4eeb99c79d24ae6d6ca7": {
          "model_module": "@jupyter-widgets/controls",
          "model_name": "VBoxModel",
          "state": {
            "_view_name": "VBoxView",
            "_dom_classes": [
              "widget-interact"
            ],
            "_model_name": "VBoxModel",
            "_view_module": "@jupyter-widgets/controls",
            "_model_module_version": "1.5.0",
            "_view_count": null,
            "_view_module_version": "1.5.0",
            "box_style": "",
            "layout": "IPY_MODEL_ec15f715f0fe44009ff92499d14af05e",
            "_model_module": "@jupyter-widgets/controls",
            "children": [
              "IPY_MODEL_785ca1e6bba244798229e69b4d3de452",
              "IPY_MODEL_d11fe380779c417ca15ad4804fa28b7a",
              "IPY_MODEL_39b086ca9e434899b1f4345e66de61df",
              "IPY_MODEL_b7028f31a04546449297debb240d81b6",
              "IPY_MODEL_8ec3b8bb09714fa79f602b5a99f80946"
            ]
          }
        },
        "ec15f715f0fe44009ff92499d14af05e": {
          "model_module": "@jupyter-widgets/base",
          "model_name": "LayoutModel",
          "state": {
            "_view_name": "LayoutView",
            "grid_template_rows": null,
            "right": null,
            "justify_content": null,
            "_view_module": "@jupyter-widgets/base",
            "overflow": null,
            "_model_module_version": "1.2.0",
            "_view_count": null,
            "flex_flow": null,
            "width": null,
            "min_width": null,
            "border": null,
            "align_items": null,
            "bottom": null,
            "_model_module": "@jupyter-widgets/base",
            "top": null,
            "grid_column": null,
            "overflow_y": null,
            "overflow_x": null,
            "grid_auto_flow": null,
            "grid_area": null,
            "grid_template_columns": null,
            "flex": null,
            "_model_name": "LayoutModel",
            "justify_items": null,
            "grid_row": null,
            "max_height": null,
            "align_content": null,
            "visibility": null,
            "align_self": null,
            "height": null,
            "min_height": null,
            "padding": null,
            "grid_auto_rows": null,
            "grid_gap": null,
            "max_width": null,
            "order": null,
            "_view_module_version": "1.2.0",
            "grid_template_areas": null,
            "object_position": null,
            "object_fit": null,
            "grid_auto_columns": null,
            "margin": null,
            "display": null,
            "left": null
          }
        },
        "785ca1e6bba244798229e69b4d3de452": {
          "model_module": "@jupyter-widgets/controls",
          "model_name": "DropdownModel",
          "state": {
            "_options_labels": [
              "Main",
              "Circle",
              "Low Energy",
              "Dubins",
              "Lyapunov",
              "High Energy",
              "RobinsMathew"
            ],
            "_view_name": "DropdownView",
            "style": "IPY_MODEL_e73af6fb55544cafafee3b4e9730a4b3",
            "_dom_classes": [],
            "description": "experimTag",
            "_model_name": "DropdownModel",
            "index": 0,
            "_view_module": "@jupyter-widgets/controls",
            "_model_module_version": "1.5.0",
            "_view_count": null,
            "disabled": false,
            "_view_module_version": "1.5.0",
            "description_tooltip": null,
            "_model_module": "@jupyter-widgets/controls",
            "layout": "IPY_MODEL_9e495366db034a07843bf252498528ea"
          }
        },
        "d11fe380779c417ca15ad4804fa28b7a": {
          "model_module": "@jupyter-widgets/controls",
          "model_name": "DropdownModel",
          "state": {
            "_options_labels": [
              "Square path",
              "Main",
              "Straightforward path",
              "Supportive",
              "Straightforward path with many waypoints",
              "Diamond-Shape path",
              "Sharp turn path",
              "Custom"
            ],
            "_view_name": "DropdownView",
            "style": "IPY_MODEL_f849393e3a9f46beb2993e852826121d",
            "_dom_classes": [],
            "description": "pathTag",
            "_model_name": "DropdownModel",
            "index": 0,
            "_view_module": "@jupyter-widgets/controls",
            "_model_module_version": "1.5.0",
            "_view_count": null,
            "disabled": false,
            "_view_module_version": "1.5.0",
            "description_tooltip": null,
            "_model_module": "@jupyter-widgets/controls",
            "layout": "IPY_MODEL_f367f0a1990449d98dfc89e22b3e7cf9"
          }
        },
        "39b086ca9e434899b1f4345e66de61df": {
          "model_module": "@jupyter-widgets/controls",
          "model_name": "DropdownModel",
          "state": {
            "_options_labels": [
              "text",
              "all",
              "path",
              "distance",
              "energy"
            ],
            "_view_name": "DropdownView",
            "style": "IPY_MODEL_b6f5a533980448ef93d22579d2b56cec",
            "_dom_classes": [],
            "description": "visualizations",
            "_model_name": "DropdownModel",
            "index": 0,
            "_view_module": "@jupyter-widgets/controls",
            "_model_module_version": "1.5.0",
            "_view_count": null,
            "disabled": false,
            "_view_module_version": "1.5.0",
            "description_tooltip": null,
            "_model_module": "@jupyter-widgets/controls",
            "layout": "IPY_MODEL_f3508c96b9bd482dbcb51f204d255e98"
          }
        },
        "b7028f31a04546449297debb240d81b6": {
          "model_module": "@jupyter-widgets/controls",
          "model_name": "CheckboxModel",
          "state": {
            "_view_name": "CheckboxView",
            "style": "IPY_MODEL_be7c78495eb74d8b9b957af494b5a211",
            "_dom_classes": [],
            "description": "smallImages",
            "_model_name": "CheckboxModel",
            "_view_module": "@jupyter-widgets/controls",
            "_model_module_version": "1.5.0",
            "value": true,
            "_view_count": null,
            "disabled": false,
            "_view_module_version": "1.5.0",
            "indent": true,
            "description_tooltip": null,
            "_model_module": "@jupyter-widgets/controls",
            "layout": "IPY_MODEL_e7a3ad5f0a964c88b9fe316926c6798b"
          }
        },
        "8ec3b8bb09714fa79f602b5a99f80946": {
          "model_module": "@jupyter-widgets/output",
          "model_name": "OutputModel",
          "state": {
            "_view_name": "OutputView",
            "msg_id": "",
            "_dom_classes": [],
            "_model_name": "OutputModel",
            "outputs": [
              {
                "output_type": "stream",
                "metadata": {
                  "tags": []
                },
                "text": "Simulating, please be patient\n",
                "stream": "stdout"
              },
              {
                "output_type": "stream",
                "metadata": {
                  "tags": []
                },
                "text": "******************************\n* Path name: Square path\n******************************\n",
                "stream": "stdout"
              },
              {
                "output_type": "display_data",
                "metadata": {
                  "tags": []
                },
                "text/html": "<div>\n<style scoped>\n    .dataframe tbody tr th:only-of-type {\n        vertical-align: middle;\n    }\n\n    .dataframe tbody tr th {\n        vertical-align: top;\n    }\n\n    .dataframe thead th {\n        text-align: right;\n    }\n</style>\n<table border=\"1\" class=\"dataframe\">\n  <thead>\n    <tr style=\"text-align: right;\">\n      <th></th>\n      <th>Experiment</th>\n      <th>Total distance</th>\n      <th>Total energy</th>\n      <th>lowVelocityLimit</th>\n      <th>highVelocityLimit</th>\n      <th>lowOmegaLimit</th>\n      <th>highOmegaLimit</th>\n      <th>vri</th>\n      <th>k1</th>\n      <th>k2</th>\n      <th>k3</th>\n    </tr>\n  </thead>\n  <tbody>\n    <tr>\n      <th>0</th>\n      <td>Circle [v = 1.0, g = 4]</td>\n      <td>42.95221338089532</td>\n      <td>4.552543532987671</td>\n      <td>0.2</td>\n      <td>1.0</td>\n      <td>-0.75</td>\n      <td>0.75</td>\n      <td>1.0</td>\n      <td>4.000</td>\n      <td>NaN</td>\n      <td>NaN</td>\n    </tr>\n    <tr>\n      <th>1</th>\n      <td>Circle [v = 1.0, g = 8]</td>\n      <td>42.68933859842528</td>\n      <td>4.572306937022359</td>\n      <td>0.2</td>\n      <td>1.0</td>\n      <td>-0.75</td>\n      <td>0.75</td>\n      <td>1.0</td>\n      <td>8.000</td>\n      <td>NaN</td>\n      <td>NaN</td>\n    </tr>\n    <tr>\n      <th>2</th>\n      <td>Dubins</td>\n      <td>42.62717224241682</td>\n      <td>4.673627090143663</td>\n      <td>0.2</td>\n      <td>1.0</td>\n      <td>-0.75</td>\n      <td>0.75</td>\n      <td>1.0</td>\n      <td>1.000</td>\n      <td>NaN</td>\n      <td>NaN</td>\n    </tr>\n    <tr>\n      <th>3</th>\n      <td>Lyapunov</td>\n      <td>41.18647614665072</td>\n      <td>16.782510732550506</td>\n      <td>0.2</td>\n      <td>1.0</td>\n      <td>-0.75</td>\n      <td>0.75</td>\n      <td>1.0</td>\n      <td>5.000</td>\n      <td>0.01</td>\n      <td>NaN</td>\n    </tr>\n    <tr>\n      <th>4</th>\n      <td>Geometry</td>\n      <td>41.22299863009624</td>\n      <td>16.793426586958944</td>\n      <td>0.2</td>\n      <td>1.0</td>\n      <td>-0.75</td>\n      <td>0.75</td>\n      <td>1.0</td>\n      <td>7.000</td>\n      <td>NaN</td>\n      <td>NaN</td>\n    </tr>\n    <tr>\n      <th>5</th>\n      <td>RobinsMathew</td>\n      <td>41.223065912911046</td>\n      <td>16.793482805437343</td>\n      <td>0.2</td>\n      <td>1.0</td>\n      <td>-0.75</td>\n      <td>0.75</td>\n      <td>1.0</td>\n      <td>1.500</td>\n      <td>6.50</td>\n      <td>NaN</td>\n    </tr>\n    <tr>\n      <th>6</th>\n      <td>Kanayama</td>\n      <td>41.26941004793312</td>\n      <td>16.801473907660508</td>\n      <td>0.2</td>\n      <td>1.0</td>\n      <td>-0.75</td>\n      <td>0.75</td>\n      <td>1.0</td>\n      <td>0.001</td>\n      <td>0.10</td>\n      <td>5.0</td>\n    </tr>\n  </tbody>\n</table>\n</div>",
                "text/plain": "                Experiment      Total distance  ...    k2   k3\n0  Circle [v = 1.0, g = 4]   42.95221338089532  ...   NaN  NaN\n1  Circle [v = 1.0, g = 8]   42.68933859842528  ...   NaN  NaN\n2                   Dubins   42.62717224241682  ...   NaN  NaN\n3                 Lyapunov   41.18647614665072  ...  0.01  NaN\n4                 Geometry   41.22299863009624  ...   NaN  NaN\n5             RobinsMathew  41.223065912911046  ...  6.50  NaN\n6                 Kanayama   41.26941004793312  ...  0.10  5.0\n\n[7 rows x 11 columns]"
              }
            ],
            "_view_module": "@jupyter-widgets/output",
            "_model_module_version": "1.0.0",
            "_view_count": null,
            "_view_module_version": "1.0.0",
            "layout": "IPY_MODEL_c0bf25c6ec84405f8144d914591e6156",
            "_model_module": "@jupyter-widgets/output"
          }
        },
        "e73af6fb55544cafafee3b4e9730a4b3": {
          "model_module": "@jupyter-widgets/controls",
          "model_name": "DescriptionStyleModel",
          "state": {
            "_view_name": "StyleView",
            "_model_name": "DescriptionStyleModel",
            "description_width": "",
            "_view_module": "@jupyter-widgets/base",
            "_model_module_version": "1.5.0",
            "_view_count": null,
            "_view_module_version": "1.2.0",
            "_model_module": "@jupyter-widgets/controls"
          }
        },
        "9e495366db034a07843bf252498528ea": {
          "model_module": "@jupyter-widgets/base",
          "model_name": "LayoutModel",
          "state": {
            "_view_name": "LayoutView",
            "grid_template_rows": null,
            "right": null,
            "justify_content": null,
            "_view_module": "@jupyter-widgets/base",
            "overflow": null,
            "_model_module_version": "1.2.0",
            "_view_count": null,
            "flex_flow": null,
            "width": null,
            "min_width": null,
            "border": null,
            "align_items": null,
            "bottom": null,
            "_model_module": "@jupyter-widgets/base",
            "top": null,
            "grid_column": null,
            "overflow_y": null,
            "overflow_x": null,
            "grid_auto_flow": null,
            "grid_area": null,
            "grid_template_columns": null,
            "flex": null,
            "_model_name": "LayoutModel",
            "justify_items": null,
            "grid_row": null,
            "max_height": null,
            "align_content": null,
            "visibility": null,
            "align_self": null,
            "height": null,
            "min_height": null,
            "padding": null,
            "grid_auto_rows": null,
            "grid_gap": null,
            "max_width": null,
            "order": null,
            "_view_module_version": "1.2.0",
            "grid_template_areas": null,
            "object_position": null,
            "object_fit": null,
            "grid_auto_columns": null,
            "margin": null,
            "display": null,
            "left": null
          }
        },
        "f849393e3a9f46beb2993e852826121d": {
          "model_module": "@jupyter-widgets/controls",
          "model_name": "DescriptionStyleModel",
          "state": {
            "_view_name": "StyleView",
            "_model_name": "DescriptionStyleModel",
            "description_width": "",
            "_view_module": "@jupyter-widgets/base",
            "_model_module_version": "1.5.0",
            "_view_count": null,
            "_view_module_version": "1.2.0",
            "_model_module": "@jupyter-widgets/controls"
          }
        },
        "f367f0a1990449d98dfc89e22b3e7cf9": {
          "model_module": "@jupyter-widgets/base",
          "model_name": "LayoutModel",
          "state": {
            "_view_name": "LayoutView",
            "grid_template_rows": null,
            "right": null,
            "justify_content": null,
            "_view_module": "@jupyter-widgets/base",
            "overflow": null,
            "_model_module_version": "1.2.0",
            "_view_count": null,
            "flex_flow": null,
            "width": null,
            "min_width": null,
            "border": null,
            "align_items": null,
            "bottom": null,
            "_model_module": "@jupyter-widgets/base",
            "top": null,
            "grid_column": null,
            "overflow_y": null,
            "overflow_x": null,
            "grid_auto_flow": null,
            "grid_area": null,
            "grid_template_columns": null,
            "flex": null,
            "_model_name": "LayoutModel",
            "justify_items": null,
            "grid_row": null,
            "max_height": null,
            "align_content": null,
            "visibility": null,
            "align_self": null,
            "height": null,
            "min_height": null,
            "padding": null,
            "grid_auto_rows": null,
            "grid_gap": null,
            "max_width": null,
            "order": null,
            "_view_module_version": "1.2.0",
            "grid_template_areas": null,
            "object_position": null,
            "object_fit": null,
            "grid_auto_columns": null,
            "margin": null,
            "display": null,
            "left": null
          }
        },
        "b6f5a533980448ef93d22579d2b56cec": {
          "model_module": "@jupyter-widgets/controls",
          "model_name": "DescriptionStyleModel",
          "state": {
            "_view_name": "StyleView",
            "_model_name": "DescriptionStyleModel",
            "description_width": "",
            "_view_module": "@jupyter-widgets/base",
            "_model_module_version": "1.5.0",
            "_view_count": null,
            "_view_module_version": "1.2.0",
            "_model_module": "@jupyter-widgets/controls"
          }
        },
        "f3508c96b9bd482dbcb51f204d255e98": {
          "model_module": "@jupyter-widgets/base",
          "model_name": "LayoutModel",
          "state": {
            "_view_name": "LayoutView",
            "grid_template_rows": null,
            "right": null,
            "justify_content": null,
            "_view_module": "@jupyter-widgets/base",
            "overflow": null,
            "_model_module_version": "1.2.0",
            "_view_count": null,
            "flex_flow": null,
            "width": null,
            "min_width": null,
            "border": null,
            "align_items": null,
            "bottom": null,
            "_model_module": "@jupyter-widgets/base",
            "top": null,
            "grid_column": null,
            "overflow_y": null,
            "overflow_x": null,
            "grid_auto_flow": null,
            "grid_area": null,
            "grid_template_columns": null,
            "flex": null,
            "_model_name": "LayoutModel",
            "justify_items": null,
            "grid_row": null,
            "max_height": null,
            "align_content": null,
            "visibility": null,
            "align_self": null,
            "height": null,
            "min_height": null,
            "padding": null,
            "grid_auto_rows": null,
            "grid_gap": null,
            "max_width": null,
            "order": null,
            "_view_module_version": "1.2.0",
            "grid_template_areas": null,
            "object_position": null,
            "object_fit": null,
            "grid_auto_columns": null,
            "margin": null,
            "display": null,
            "left": null
          }
        },
        "be7c78495eb74d8b9b957af494b5a211": {
          "model_module": "@jupyter-widgets/controls",
          "model_name": "DescriptionStyleModel",
          "state": {
            "_view_name": "StyleView",
            "_model_name": "DescriptionStyleModel",
            "description_width": "",
            "_view_module": "@jupyter-widgets/base",
            "_model_module_version": "1.5.0",
            "_view_count": null,
            "_view_module_version": "1.2.0",
            "_model_module": "@jupyter-widgets/controls"
          }
        },
        "e7a3ad5f0a964c88b9fe316926c6798b": {
          "model_module": "@jupyter-widgets/base",
          "model_name": "LayoutModel",
          "state": {
            "_view_name": "LayoutView",
            "grid_template_rows": null,
            "right": null,
            "justify_content": null,
            "_view_module": "@jupyter-widgets/base",
            "overflow": null,
            "_model_module_version": "1.2.0",
            "_view_count": null,
            "flex_flow": null,
            "width": null,
            "min_width": null,
            "border": null,
            "align_items": null,
            "bottom": null,
            "_model_module": "@jupyter-widgets/base",
            "top": null,
            "grid_column": null,
            "overflow_y": null,
            "overflow_x": null,
            "grid_auto_flow": null,
            "grid_area": null,
            "grid_template_columns": null,
            "flex": null,
            "_model_name": "LayoutModel",
            "justify_items": null,
            "grid_row": null,
            "max_height": null,
            "align_content": null,
            "visibility": null,
            "align_self": null,
            "height": null,
            "min_height": null,
            "padding": null,
            "grid_auto_rows": null,
            "grid_gap": null,
            "max_width": null,
            "order": null,
            "_view_module_version": "1.2.0",
            "grid_template_areas": null,
            "object_position": null,
            "object_fit": null,
            "grid_auto_columns": null,
            "margin": null,
            "display": null,
            "left": null
          }
        },
        "c0bf25c6ec84405f8144d914591e6156": {
          "model_module": "@jupyter-widgets/base",
          "model_name": "LayoutModel",
          "state": {
            "_view_name": "LayoutView",
            "grid_template_rows": null,
            "right": null,
            "justify_content": null,
            "_view_module": "@jupyter-widgets/base",
            "overflow": null,
            "_model_module_version": "1.2.0",
            "_view_count": null,
            "flex_flow": null,
            "width": null,
            "min_width": null,
            "border": null,
            "align_items": null,
            "bottom": null,
            "_model_module": "@jupyter-widgets/base",
            "top": null,
            "grid_column": null,
            "overflow_y": null,
            "overflow_x": null,
            "grid_auto_flow": null,
            "grid_area": null,
            "grid_template_columns": null,
            "flex": null,
            "_model_name": "LayoutModel",
            "justify_items": null,
            "grid_row": null,
            "max_height": null,
            "align_content": null,
            "visibility": null,
            "align_self": null,
            "height": null,
            "min_height": null,
            "padding": null,
            "grid_auto_rows": null,
            "grid_gap": null,
            "max_width": null,
            "order": null,
            "_view_module_version": "1.2.0",
            "grid_template_areas": null,
            "object_position": null,
            "object_fit": null,
            "grid_auto_columns": null,
            "margin": null,
            "display": null,
            "left": null
          }
        }
      }
    }
  },
  "cells": [
    {
      "cell_type": "markdown",
      "metadata": {
        "id": "SS5dWeVcFtXe"
      },
      "source": [
        "#Energy Comparison of Controllers Used for Differential Drive Wheeled Mobile Robot"
      ]
    },
    {
      "cell_type": "markdown",
      "metadata": {
        "id": "u8HAMbh1cJ9S"
      },
      "source": [
        "## Keywords\n",
        "Differential Drive Robots, Energy Model, Fitness Function, Kinetic Energy, Robot’s Energy, Wheeled Mobile Robot Control.\n"
      ]
    },
    {
      "cell_type": "markdown",
      "metadata": {
        "id": "Ult-xen6YyfR"
      },
      "source": [
        "## Introduction\n",
        "\n",
        "Jupyter notebook is interactive media which includes text parts and code snippets. Those code could be run, just choose appropriate menu subitem in **Runtime** menu.\n",
        "\n",
        "This Jupyter notebook was created to allow a comparison of different controllers. If you want to include your own controller you can go to the section **Controllers**, subsection **Define your controller here**.\n",
        "\n",
        "If you want to use different paths you can define it in section **Simulation**, subsection **Paths Definition**.\n",
        "\n",
        "It is also possible to tag experiment. In this case, visit section **Simulation** and subsection **Experiment Description**. Those tagged experiments could be selected in section **Simulations**, subsection **Execution**.\n",
        "\n",
        "The last section is **Interactive Simulation** where you can choose different experiment sets on different paths. \n",
        "\n",
        "\n"
      ]
    },
    {
      "cell_type": "markdown",
      "metadata": {
        "id": "7Qzzi0ztY2LS"
      },
      "source": [
        "## Inevitable Program Initialization"
      ]
    },
    {
      "cell_type": "code",
      "metadata": {
        "id": "ScfXVj8VmEFV"
      },
      "source": [
        "import numpy as np\n",
        "import math\n",
        "from math import *\n",
        "import scipy.integrate as integrate\n",
        "import matplotlib.pyplot as plt\n",
        "import pandas as pd\n",
        "%matplotlib inline"
      ],
      "execution_count": null,
      "outputs": []
    },
    {
      "cell_type": "markdown",
      "metadata": {
        "id": "Usarjl5UGYLC"
      },
      "source": [
        "## Robot Model"
      ]
    },
    {
      "cell_type": "markdown",
      "metadata": {
        "id": "rvkilrPodNXH"
      },
      "source": [
        "### Some different shapes of the Diffirential Drive Wheeled Mobile Robot \n",
        "2_wheel Diferential Drive Robot; 3_wheel Diferential Drive Robot; 4_wheel Diferential Drive Robot.\n",
        "\n",
        "![image.png](data:image/png;base64,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) ![image.png](data:image/png;base64,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)  ![image.png](data:image/png;base64,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)\n"
      ]
    },
    {
      "cell_type": "markdown",
      "metadata": {
        "id": "o60iXuzfBCaw"
      },
      "source": [
        "### Parameters\n",
        "| Symbol | description |\n",
        "| --- |---|\n",
        "| $x$ | position on $x$ axis |\n",
        "| $y$ | position on $y$ axis |\n",
        "| $\\theta$ | robot orientation\n",
        "| $v_r$ | linear velocity of right wheel\n",
        "| $v_l$ | linear velocity of left wheel\n",
        "| $\\omega_r$ | angular velocity of right wheel\n",
        "| $\\omega_l$ | angular velocity of left wheel\n",
        "| $r$ | wheel's radius\n",
        "| $b$ | distance between driven wheels"
      ]
    },
    {
      "cell_type": "markdown",
      "metadata": {
        "id": "dWCbilVnabMm"
      },
      "source": [
        "Table I\n",
        "\n",
        "|Parameter|Symbol|Value|\n",
        "|-|:-:|:-:|\n",
        "|Wheel's radius|$r$|0.0925 $m$|\n",
        "|Distance between driven wheels|$b$|0.37 $m$|\n",
        "|Mass of the robot|$m$|9 $kg$|\n",
        "|Moment of inertia of the robot|$I$|0.16245 $kgm^2$|\n",
        "|Start position of the robot on x axis|$start_x$|0 $m$|\n",
        "|Start position of the robot on y axis|$start_y$|0 $m$|\n",
        "|Start orientation of the robot|$\\theta$|45 $^o$|\n"
      ]
    },
    {
      "cell_type": "code",
      "metadata": {
        "id": "TH62-ude0NAV"
      },
      "source": [
        "r = 0.0925\n",
        "b = 0.37\n",
        "m = 9  \n",
        "I = 0.16245\n",
        "start_x = 0\n",
        "start_y = 0\n",
        "start_theta =  45\n",
        "start_theta = (start_theta * math.pi) / 180"
      ],
      "execution_count": null,
      "outputs": []
    },
    {
      "cell_type": "markdown",
      "metadata": {
        "id": "hl1O1mUQZ0kh"
      },
      "source": [
        "### Basic equations\n",
        "$v=\\frac{v_r+v_l}{2}$ is linear velocity of the robot\n",
        "\n",
        "$\\Delta=\\frac{v_r-v_l}{2} = \\frac{\\omega \\cdot b}{2}$ is half of difference in circumferential velocities of its wheels\n",
        "\n",
        "$R=\\frac{v\\cdot b}{2 \\Delta}$ is radius of rotation for planned path\n",
        "\n",
        "$\\omega=\\frac{2 \\cdot \\Delta}{b}$ is angular velocity of the robot"
      ]
    },
    {
      "cell_type": "markdown",
      "metadata": {
        "id": "dEQPfAH04VDz"
      },
      "source": [
        "### Kinematic model of the Differential Drive Wheeled Mobile Robot\n",
        "\n",
        "$\\dot x=v \\cdot \\cos(\\theta)$\n",
        "\n",
        "$\\dot y=v \\cdot \\sin(\\theta)$\n",
        "\n",
        "$\\dot \\theta=\\omega$\n",
        "\n",
        "also \n",
        "$\\begin{bmatrix} \\dot x \\\\ \\dot y \\\\ \\dot \\omega \\end{bmatrix} = \\begin{bmatrix} cos(\\theta) & 0 \\\\ sin(\\theta) & 0 \\\\ 0 & 1 \\end{bmatrix} . \\begin{bmatrix} v \\\\ \\omega \\end{bmatrix} $\n",
        "\n",
        "or \n",
        "$\\begin{bmatrix} \\dot x \\\\ \\dot y \\\\ \\dot \\omega \\end{bmatrix} =  f_r \\left( \\begin{bmatrix} v \\\\ \\omega \\end{bmatrix}\\right) $\n",
        "\n",
        "as \n",
        "$\\begin{bmatrix} v \\\\ \\omega \\end{bmatrix}=f_c \\left( \\begin{bmatrix} x \\\\ y \\\\ \\omega \\end{bmatrix} \\right)$\n",
        "\n",
        "then\n",
        "$\\begin{bmatrix} \\dot x \\\\ \\dot y \\\\ \\dot \\omega \\end{bmatrix} = f_r \\left( f_c \\left( \\begin{bmatrix} x \\\\ y \\\\ \\omega \\end{bmatrix} \\right) \\right)$\n",
        "\n",
        "and then\n",
        "$\\begin{bmatrix} \\dot x \\\\ \\dot y \\\\ \\dot \\omega \\end{bmatrix} = f \\left( \\begin{bmatrix} x \\\\ y \\\\ \\omega \\end{bmatrix} \\right)$\n",
        "\n",
        "$f=f_r \\circ f_c$\n",
        "\n",
        "which is standard form of differential equation."
      ]
    },
    {
      "cell_type": "markdown",
      "metadata": {
        "id": "3PEBJZFD8Ul4"
      },
      "source": [
        "### Dynamic model  the Differential Drive Wheeled Mobile Robot\n",
        "- In this subsection, the Kinematic model combine with the Motor Dynamic model of the robot is created.  \n",
        "- DC motor constants\n",
        "\n",
        "|Description|Symbol| Value and unit |\n",
        "|-|-|-|\n",
        "|Moment of Inertia of the rotor|$J$|0.01 $Kgm^2/s^2$|\n",
        "|Damping ratio|$B$|0.1 $Nms$     |\n",
        "|Electromotive force constant|$K$|0.01 $Nm/Amp$|\n",
        "|Electrical Resistance|$Ra$|0.1 $\\Omega$|\n",
        "|Electrical Inductance|$La$|0.01 $H$|\n",
        "\n",
        "Instead ``robot`` ``robotWithDynamic`` could be used. Parameters ``b1, b0, a1, a0`` define coefficients for motors. Motors are modelled as filters of 2nd order bellow:\n",
        "\n",
        "Differential equation of a second order filter is\n",
        "\n",
        "$\\dot{x_0} = b_0 u + a_0 x_0 + x_1$\n",
        "\n",
        "$\\dot{x_1} =b_1 u + a_1 x_0 $\n",
        "\n",
        "Therefore:\n",
        "\n",
        "$\\ddot{x_0} = b_0\\dot{u} + a_0\\dot{x_0} + b_1u + a_1x_0 $\n",
        "\n",
        "or: \n",
        "\n",
        "$\\ddot{y} - a_0\\dot{y} - a_1y = b_0\\dot{u} + b_1u$\n",
        "\n",
        "So a transfer function for a filters of 2nd order is:\n",
        "\n",
        "$F(s) = \\frac{Y(s)}{U(s)} = \\frac{b_0s + b_1}{s^2 - a_0s -a_1}$\n",
        "\n"
      ]
    },
    {
      "cell_type": "markdown",
      "metadata": {
        "id": "I2xPyyz6GD9g"
      },
      "source": [
        "### Robot model implementation\n",
        "Function\n",
        "```python\n",
        "def robot\n",
        "```\n",
        "is prepared for future differential equation expression as could be expressed as $f_r$.\n"
      ]
    },
    {
      "cell_type": "markdown",
      "metadata": {
        "id": "9jV6xnId2t9A"
      },
      "source": [
        "#### Kinematic model"
      ]
    },
    {
      "cell_type": "code",
      "metadata": {
        "id": "xgG1KvGZ4yxk"
      },
      "source": [
        "from math import sin, cos\n",
        "def robot(t, currentState, controller):\n",
        "  # ask controller for velocity and omega\n",
        "  velocity, omega = controller(t, currentState)\n",
        "\n",
        "  currentTheta = currentState[2]\n",
        "  cosTheta = cos(currentTheta)\n",
        "  sinTheta = sin(currentTheta)\n",
        "\n",
        "  x_dot = velocity * cosTheta\n",
        "  y_dot = velocity * sinTheta\n",
        "  theta_dot = omega\n",
        "\n",
        "  E = 0.5*(m*(velocity)*(velocity) + I*(omega)*(omega))\n",
        "\n",
        "  return [x_dot, y_dot, theta_dot, velocity, omega, E] #velocity, omega, E are returned for easy evaluation they are not needed for computation"
      ],
      "execution_count": null,
      "outputs": []
    },
    {
      "cell_type": "markdown",
      "metadata": {
        "id": "-8OsewAO_m6G"
      },
      "source": [
        "#### Dynamic Model\n"
      ]
    },
    {
      "cell_type": "code",
      "metadata": {
        "id": "y-VYt8Wu_mY2"
      },
      "source": [
        "#//////////////////////////////////////////////////////////////////////////////\n",
        "# Calculating the coefficients for DC motor\n",
        "J = 0.01\n",
        "B = 0.1\n",
        "Kt = Ke = K = 0.01\n",
        "Ra = 0.1\n",
        "La = 0.01\n",
        "b1 = K/(La*J)\n",
        "b0 = 0\n",
        "a1 = -(Ra*B + K*K)/(La*J)\n",
        "a0 = -(Ra*J + La*B)/(La*J)\n",
        "#//////////////////////////////////////////////////////////////////////////////\n",
        "def createFilter2ndOrder(b1, b0, a1, a0):\n",
        "  def filter2ndOrder(t, u, currentState):\n",
        "    x0 = currentState[0]\n",
        "    x1 = currentState[1]\n",
        "    dx0 = b0 * u + a0 * x0 + x1\n",
        "    dx1 = b1 * u + a1 * x0\n",
        "    return [dx0, dx1]\n",
        "  return filter2ndOrder\n",
        "\n",
        "def createRobotModelWithDynamic(b1, b0, a1, a0):\n",
        "  motorAsFilter = createFilter2ndOrder(b1, b0, a1, a0)\n",
        "  def robot(t, currentState, controller):\n",
        "    # ask controller for velocity and omega\n",
        "    velocity, omega = controller(t, currentState)\n",
        "    \n",
        "    delta = omega * b / 2\n",
        "    vL = velocity - delta\n",
        "    vR = velocity + delta\n",
        "    vLState = currentState[6:8]\n",
        "    vRState = currentState[8:10]\n",
        "    vLStateD = motorAsFilter(t, vL, vLState)\n",
        "    vRStateD = motorAsFilter(t, vR, vRState)\n",
        "    vLFiltered = vLState[0]\n",
        "    vRFiltered = vRState[0]\n",
        "\n",
        "    velocity = (vRFiltered + vLFiltered) / 2\n",
        "    delta = (vRFiltered - vLFiltered) / 2\n",
        "    omega = 2 * delta / b\n",
        "\n",
        "    currentTheta = currentState[2]\n",
        "    cosTheta = cos(currentTheta)\n",
        "    sinTheta = sin(currentTheta)\n",
        "\n",
        "    x_dot = velocity * cosTheta\n",
        "    y_dot = velocity * sinTheta\n",
        "    theta_dot = omega\n",
        "\n",
        "    E = 0.5*(m*(velocity)*(velocity) + I*(omega)*(omega))\n",
        "\n",
        "    return [x_dot, y_dot, theta_dot, velocity, omega, E, *vLStateD, *vRStateD] #velocity, omega, E are returned for easy evaluation they are not needed for computation\n",
        "  return robot\n",
        "  \n",
        "robotWithDynamic = createRobotModelWithDynamic(b1, b0, a1, a0)\n",
        "robot = robotWithDynamic # If delete this line, only the Kinematic model is taken into account."
      ],
      "execution_count": null,
      "outputs": []
    },
    {
      "cell_type": "markdown",
      "metadata": {
        "id": "bu7BoUC3LtlQ"
      },
      "source": [
        "### Dynamic Model Test"
      ]
    },
    {
      "cell_type": "code",
      "metadata": {
        "id": "h2RiPj7CHeSp",
        "outputId": "9b4712e0-78f3-4324-fac5-cb6424be39df",
        "colab": {
          "base_uri": "https://localhost:8080/",
          "height": 296
        }
      },
      "source": [
        "filter2ndOrder = createFilter2ndOrder(b1, b0, a1, a0)\n",
        "def compute(model, state0, t0 = 0.0, t_bound = 5, max_step = 0.05):\n",
        "  solver = integrate.RK45(fun = model, t0 = t0, y0 = state0, t_bound = t_bound, max_step = max_step)\n",
        "  cnt = 0\n",
        "  while True:\n",
        "    message = solver.step()\n",
        "    y = solver.y\n",
        "    currentItem = {'time': solver.t, 'y': y[0], 'x1': y[1]}\n",
        "    yield currentItem\n",
        "    if (not(solver.status == 'running')):\n",
        "        break\n",
        "  return\n",
        "\n",
        "filter2ndOrderStep = lambda t, state: filter2ndOrder(t, 1, state)\n",
        "result = compute(filter2ndOrderStep, state0 = [0, 0])\n",
        "df = pd.DataFrame(result)\n",
        "df.plot.line('time', 'y')"
      ],
      "execution_count": null,
      "outputs": [
        {
          "output_type": "execute_result",
          "data": {
            "text/plain": [
              "<matplotlib.axes._subplots.AxesSubplot at 0x7fa773d6bfd0>"
            ]
          },
          "metadata": {
            "tags": []
          },
          "execution_count": 5
        },
        {
          "output_type": "display_data",
          "data": {
            "image/png": "[encoded data removed]",
            "text/plain": [
              "<Figure size 432x288 with 1 Axes>"
            ]
          },
          "metadata": {
            "tags": [],
            "needs_background": "light"
          }
        }
      ]
    },
    {
      "cell_type": "markdown",
      "metadata": {
        "id": "dZNvWB_gGMQT"
      },
      "source": [
        "## Simulation Tools"
      ]
    },
    {
      "cell_type": "markdown",
      "metadata": {
        "id": "_9BPIqhX1lRK"
      },
      "source": [
        "### Simulation / Computation\n",
        "Function\n",
        "```python\n",
        "def compute\n",
        "```\n",
        "streams out (`yield`) the vector $r(t)$ which consists of\n",
        "\n",
        "|index|name|symbol|unit|\n",
        "|:-:|-|:-:|:-:|\n",
        "|0|time|$t$|$s$|\n",
        "|1|x position|$x$|$m$|\n",
        "|2|y position|$y$|$m$|\n",
        "|3|orientation|$\\theta$|$rad$|\n",
        "|4|distance|$s$|$m$|\n",
        "|5|orientation II|$\\theta$|$rad$|\n",
        "|6||$\\int E dt$||\n",
        "|7|x velocity|$v_x$|$ms^{-1}$|\n",
        "|8|y velocity|$v_y$|$ms^{-1}$|\n",
        "|9|angular velocity|$\\omega$|$rads^{-1}$|\n",
        "|10|velocity|$v$|$ms^{-1}$|\n",
        "|11|angular velocity II|$\\omega$|$rads^{-1}$|\n",
        "|12|current energy|$E$|$J$|\n",
        "|13|total energy|$E$|$J$|\n",
        "\n",
        "for numerical computation `RK45` function from `scipy` library is used.\n"
      ]
    },
    {
      "cell_type": "code",
      "metadata": {
        "id": "SWZGXlRBBxpR"
      },
      "source": [
        "selectx = lambda item: item['y'][0]       # x position\n",
        "selecty = lambda item: item['y'][1]       # y position\n",
        "selectt = lambda item: item['time']       # time\n",
        "selectv = lambda item: item['dy'][3]      # velocity\n",
        "selectomega = lambda item: item['dy'][2]  # omega = theta_dot\n",
        "selecte = lambda item: item['TotalEnergy']# energy\n",
        "selects = lambda item: item['y'][3]       # displacement\n",
        "\n",
        "selectors = [selectt, selectx, selecty, selects, selectv, selectomega, selecte]\n",
        "#         yIndex=0, yIndex=1, yIndex=2, yIndex=3, yIndex=4, yIndex=5, yIndex=6\n",
        "def compute(model, state0, t0 = 0.0, t_bound = 10, max_step = 0.05):\n",
        "  solver = integrate.RK45(fun = model, t0 = t0, y0 = state0, t_bound = t_bound, max_step = max_step)\n",
        "  cnt = 0\n",
        "  lastEnergy = 0\n",
        "  totalEnergy = 0\n",
        "\n",
        "#names = ['t', 'x', 'y', 'θ', 's', 'θ2', 'IE', \"x'\", \"y'\", 'ω', 'v', 'ω2', 'E']\n",
        "  while True:\n",
        "    message = solver.step()\n",
        "    #currentItem = [solver.t, *solver.y, *model(solver.t, solver.y)]\n",
        "    currentItem = {'time': solver.t, 'y': solver.y, 'dy': model(solver.t, solver.y)}\n",
        "    #t, 'solver.y': x, y, theta, s, theta, intE 'model': x', y', theta', velocity, omega, E\n",
        "    #0,             1, 2, 3,     4,   5,    6,           7,  8,   9,        10,     11,   12  \n",
        "    # Energy calculation / energy sumation\n",
        "    currentEnergy = currentItem['dy'][5] #currentNamed['E']\n",
        "    deltaEnergy = currentEnergy - lastEnergy\n",
        "\n",
        "    if deltaEnergy > 0:\n",
        "      totalEnergy = totalEnergy + deltaEnergy\n",
        "\n",
        "    lastEnergy = currentEnergy\n",
        "    currentItem['TotalEnergy'] = totalEnergy\n",
        "\n",
        "    yield currentItem\n",
        "    if (not(solver.status == 'running')):\n",
        "        break\n",
        "  return"
      ],
      "execution_count": null,
      "outputs": []
    },
    {
      "cell_type": "markdown",
      "metadata": {
        "id": "PKYv7tORgW0v"
      },
      "source": [
        "### Following given path\n",
        "Function\n",
        "```python\n",
        "def controllerForPath\n",
        "```\n",
        "extends given controller which is supposed to reach the goal defined by a single position. Every time when the robot reaches the goal, a new point from the path is readout until the queue of the point is exhausted."
      ]
    },
    {
      "cell_type": "code",
      "metadata": {
        "id": "SI5xAsojggYe"
      },
      "source": [
        "def controllerForPath(controller, path):\n",
        "  destinationX, destinationY, destinationOrietation = next(path)\n",
        "  destinationState = [destinationX, destinationY, destinationOrietation]\n",
        "  lastReached = False\n",
        "  #print('Destination set to', destinationState)\n",
        "  def result(t, currentState):\n",
        "    nonlocal destinationX # use parent variable\n",
        "    nonlocal destinationY # use parent variable\n",
        "    nonlocal destinationState # use parent variable\n",
        "    nonlocal lastReached # use parent variable\n",
        "\n",
        "    currentX = currentState[0]\n",
        "    currentY = currentState[1]\n",
        "    deltaX = destinationX - currentX\n",
        "    deltaY = destinationY - currentY\n",
        "    if (lastReached == False):\n",
        "      # last point in path was not reached\n",
        "      if (deltaX * deltaX + deltaY * deltaY < 1e-2):\n",
        "        # robot is close enought to currentDestination\n",
        "        try:\n",
        "          # try to get another point on path\n",
        "          destinationX, destinationY, destinationOrietation = next(path)\n",
        "          destinationState = [destinationX, destinationY, destinationOrietation]\n",
        "          #print('Destination set to', destinationState, 'while in state', currentState)\n",
        "        except StopIteration:\n",
        "          # there are no other points\n",
        "          lastReached = True\n",
        "    if (lastReached):\n",
        "      return (0, 0)\n",
        "    else:\n",
        "      return controller(t, currentState, destinationState)\n",
        "  return result"
      ],
      "execution_count": null,
      "outputs": []
    },
    {
      "cell_type": "markdown",
      "metadata": {
        "id": "ojH4jVtUG8SD"
      },
      "source": [
        "### Robot Model and Controller Connection\n",
        "Function\n",
        "```python\n",
        "def robotModelCreator\n",
        "```\n",
        "creates function$f(t, x)$ which is part of differential equation\n",
        "\n",
        "$\\dot x=f(t, x)$\n",
        "\n",
        "returned `resultRMC` can be used and will be used as that function."
      ]
    },
    {
      "cell_type": "code",
      "metadata": {
        "id": "-le5YufJ3k5J"
      },
      "source": [
        "def robotModelCreator(controllerCreator, path, **kwargs):\n",
        "  controller_ = controllerCreator(**kwargs)\n",
        "  savedController = controllerForPath(controller_, path)\n",
        "  def resultRMC(t, currentState):\n",
        "    return robot(t, currentState, savedController)\n",
        "  return resultRMC"
      ],
      "execution_count": null,
      "outputs": []
    },
    {
      "cell_type": "markdown",
      "metadata": {
        "id": "-ab96awcHDDo"
      },
      "source": [
        "### Closure Function for Simulation\n",
        "function\n",
        "```python\n",
        "def simpleCompute\n",
        "```\n",
        "returns function `resultSC` which has only one parameter and thus could be used simpler."
      ]
    },
    {
      "cell_type": "code",
      "metadata": {
        "id": "pqsV4QZ42pIn"
      },
      "source": [
        "def simpleCompute(computefunc, state0, t0 = 0, t_bound = 200, max_step = 0.05):\n",
        "  def resultSC(model):\n",
        "    return computefunc(\n",
        "        model, state0 = state0, t0 = t0, t_bound = t_bound, max_step = max_step)\n",
        "  return resultSC"
      ],
      "execution_count": null,
      "outputs": []
    },
    {
      "cell_type": "markdown",
      "metadata": {
        "id": "GtWdz8gkHQqz"
      },
      "source": [
        "### Simulation Runner\n",
        "This function uses the simulation description parameter (`experimentsDescription`) and returns a 3D array of results. First dimension along robots, second dimension along time and last dimension along values."
      ]
    },
    {
      "cell_type": "code",
      "metadata": {
        "id": "c0nG3hCL2qCX"
      },
      "source": [
        "def runSimulations(\n",
        "    experimentsDescription, path, \n",
        "    state0, t0 = 0, t_bound = 200, max_step = 0.05):\n",
        "\n",
        "  solverfunc = simpleCompute(\n",
        "      compute, state0 = state0, \n",
        "      t0 = t0, t_bound = t_bound, max_step = max_step)\n",
        "\n",
        "  robots = []\n",
        "  for currentExperiment in experimentsDescription:\n",
        "    description = currentExperiment['description']\n",
        "    robotWithController = robotModelCreator(**description)\n",
        "    robots.append(solverfunc(robotWithController))\n",
        "\n",
        "  results = []\n",
        "  for currentRobot in robots:\n",
        "    result = []\n",
        "    for currentState in currentRobot: # readout all states from current moving robot\n",
        "      for _ in selectors:\n",
        "        result.append([])\n",
        "      for index, func in enumerate(selectors):\n",
        "        result[index].append(func(currentState))\n",
        "    results.append(result)\n",
        "  return results"
      ],
      "execution_count": null,
      "outputs": []
    },
    {
      "cell_type": "markdown",
      "metadata": {
        "id": "SbT2XGoKHQCg"
      },
      "source": [
        "### Path Plotter"
      ]
    },
    {
      "cell_type": "code",
      "metadata": {
        "id": "oYw5ZT6h7BrQ"
      },
      "source": [
        "def plotSimulationsPaths(\n",
        "    experimentsDescription, experimentsResults, path, show = True):\n",
        "  for currentResult, experiment in zip(experimentsResults, experimentsDescription):\n",
        "    currentStyle = experiment['plotstyle']\n",
        "\n",
        "    t_a = currentResult[0]\n",
        "    x_a = currentResult[1]\n",
        "    y_a = currentResult[2]\n",
        "        \n",
        "    plt.plot(x_a, y_a, **currentStyle)\n",
        "\n",
        "  pathx = []\n",
        "  pathy = []\n",
        "  for x, y, orientation in path:\n",
        "    pathx.append(x)\n",
        "    pathy.append(y)\n",
        "\n",
        "  plt.plot(pathx, pathy, 'b-', label = 'Planned path', lw = 1)\n",
        "  plt.grid(which = 'both')  \n",
        "  plt.gca().set_aspect('equal')\n",
        "  plt.legend(loc = 'best')\n",
        "  plt.xlabel('$x[m]$')\n",
        "  plt.ylabel('$y[m]$')\n",
        "  if show:\n",
        "    plt.show()    \n",
        "  return"
      ],
      "execution_count": null,
      "outputs": []
    },
    {
      "cell_type": "markdown",
      "metadata": {
        "id": "e5baAe5RHaz7"
      },
      "source": [
        "### Value Plotter"
      ]
    },
    {
      "cell_type": "code",
      "metadata": {
        "id": "WFQfKYYDExna"
      },
      "source": [
        "def plotValueAndTime(\n",
        "    experimentsDescription, experimentsResults, show = True, \n",
        "    xIndex = 0, xLabel = '$t[s]$',\n",
        "    yIndex = 3, yLabel = '$s[m]$', title = ''):\n",
        "  for currentResult, experiment in zip(experimentsResults, experimentsDescription):\n",
        "    t_a = currentResult[xIndex]\n",
        "    s_a = currentResult[yIndex]\n",
        "    currentStyle = experiment['plotstyle']\n",
        "\n",
        "    plt.plot(t_a, s_a, **currentStyle)\n",
        "\n",
        "  plt.grid(which = 'both')  \n",
        "  plt.xlabel(xLabel)\n",
        "  plt.ylabel(yLabel)\n",
        "  plt.title(title)\n",
        "  if show:\n",
        "    plt.show()    \n",
        "  return  "
      ],
      "execution_count": null,
      "outputs": []
    },
    {
      "cell_type": "markdown",
      "metadata": {
        "id": "o-h86IpYLzc8"
      },
      "source": [
        "### All in one Plotter"
      ]
    },
    {
      "cell_type": "code",
      "metadata": {
        "id": "TlDSkp-5MnWO"
      },
      "source": [
        "def plotAllInOne(experimentsDescription, experimentsResults, path):\n",
        "  fig = plt.figure()# for save picture of figures\n",
        "\n",
        "  plt.subplot(3, 2, 1)\n",
        "  plt.title('Path')\n",
        "  plotSimulationsPaths(\n",
        "      experimentsDescription, experimentsResults, path, show = False)\n",
        "  \n",
        "  plt.subplot(3, 2, 2)\n",
        "  plt.title('Distance in Time')\n",
        "  plotValueAndTime(\n",
        "      experimentsDescription, experimentsResults, show = False, \n",
        "      yIndex = 3, yLabel = '$s[m]$')\n",
        "  plt.legend(loc = 'right')\n",
        "  \n",
        "  plt.subplot(3, 2, 3)\n",
        "  plt.title('Angular velocity in Time')\n",
        "  plotValueAndTime(\n",
        "      experimentsDescription, experimentsResults, show = False, \n",
        "      yIndex = 5, yLabel = '$\\omega[rads^{-1}]$')\n",
        "  plt.legend(loc = 'lower right')\n",
        "  \n",
        "  plt.subplot(3, 2, 4)\n",
        "  plt.title('Velocity in Time')\n",
        "  plotValueAndTime(\n",
        "      experimentsDescription, experimentsResults, show = False, \n",
        "      yIndex = 4, yLabel = '$v[ms^{-1}]$')\n",
        "  plt.legend(loc = 'right')\n",
        "\n",
        "  plt.subplot(3, 2, 5)\n",
        "  plt.title('Total Kinetic Energy loss in Time')\n",
        "  plotValueAndTime(\n",
        "      experimentsDescription, experimentsResults, show = False, \n",
        "      yIndex = 6, yLabel = '$E[J]$')\n",
        "  plt.legend(loc = 'right')\n",
        "      \n",
        "  fig.savefig('plot.png')\n",
        "  plt.show()    \n"
      ],
      "execution_count": null,
      "outputs": []
    },
    {
      "cell_type": "markdown",
      "metadata": {
        "id": "HnVJFim5yOEP"
      },
      "source": [
        "### Data Extractor\n"
      ]
    },
    {
      "cell_type": "code",
      "metadata": {
        "id": "SSOQbuttydaF"
      },
      "source": [
        "def ExtractData(experimentsDescription, experimentsResults, path):\n",
        "  for description, result in zip(experimentsDescription, experimentsResults):\n",
        "#controllerCreator\n",
        "    parameters = {**description['description']}\n",
        "    del parameters['controllerCreator']\n",
        "    del parameters['path']\n",
        "    del parameters['omega_ri']\n",
        "\n",
        "    yield {\n",
        "        'Experiment': description['name'], \n",
        "        'Total distance': str(result[3][-1]), \n",
        "        'Total energy': str(result[6][-1]),\n",
        "        **parameters\n",
        "        }\n",
        "  pass"
      ],
      "execution_count": null,
      "outputs": []
    },
    {
      "cell_type": "markdown",
      "metadata": {
        "id": "2_eEd0Uml9Ff"
      },
      "source": [
        "### Table Display"
      ]
    },
    {
      "cell_type": "code",
      "metadata": {
        "id": "9SpRvc4XmBe2"
      },
      "source": [
        "def displayTable(data):\n",
        "  df = pd.DataFrame(data)\n",
        "  display(df)"
      ],
      "execution_count": null,
      "outputs": []
    },
    {
      "cell_type": "markdown",
      "metadata": {
        "id": "TVtqxqIXGOqg"
      },
      "source": [
        "## Controllers\n",
        "Some well-known control algorithms for the Differential Drive Wheeled Mobile Robot. Those controllers are implemented and compared\n",
        "\n",
        "- Base on Lyapunov control  [13], [25]\n",
        "\n",
        "- Clever Trigonometry Based Controller [23]\n",
        "\n",
        "- Feedback base control – Circular path [12]\n",
        "\n",
        "- Advanced controller By_RobinsMathew [1]\n",
        "\n",
        "- Advanced controller - Circular path [12]\n",
        "\n",
        "- Advanced controller - Dubins path [16]\n",
        "\n",
        "- Controller proposed by Kanayama [1]"
      ]
    },
    {
      "cell_type": "markdown",
      "metadata": {
        "id": "ou0oV2KfFU5j"
      },
      "source": [
        "### Feedback-based controller for  circular path [12]\n",
        "Describe it here, cite article\n",
        "\n",
        "$v=\\frac{v_r+v_l}{2}$\n",
        "\n",
        "$\\Delta=\\frac{v_r-v_l}{2}$\n",
        "\n",
        "$R=\\frac{v b}{2 \\Delta}$\n",
        "\n",
        "$\\omega=\\frac{2 \\Delta}{b}$\n",
        "\n",
        "$\\dot x=v \\cdot cos(\\theta)$\n",
        "\n",
        "$\\dot y=v \\cdot sin(\\theta)$\n",
        "\n",
        "$\\dot \\theta=\\omega$\n",
        "\n",
        "$\\omega=-2\\cdot k_1\\cdot v\\cdot \\frac{\\Delta X\\cdot sin(\\theta) - \\Delta Y\\cdot cos(\\theta)}{(\\Delta X)^2 + (\\Delta Y)^2}$\n",
        "\n",
        "Where:\n",
        "\n",
        " $k_1 > 0$ : is a coefficient of controller.\n",
        " For this simulation we use $v = v_{ri}$ is reference linear velocity of the robot\n"
      ]
    },
    {
      "cell_type": "code",
      "metadata": {
        "id": "TcNCbwYKFVPa"
      },
      "source": [
        "def createCircleControllerWithGain(omega_ri, vri, k1, \n",
        "  lowVelocityLimit, highVelocityLimit, lowOmegaLimit, highOmegaLimit):\n",
        "  def controller(t, currentState, destinationState):\n",
        "    currentX = currentState[0]\n",
        "    currentY = currentState[1]\n",
        "    currentTheta = currentState[2]\n",
        "\n",
        "    destinationX = destinationState[0]\n",
        "    destinationY = destinationState[1]\n",
        "\n",
        "    cosTheta = cos(currentTheta)\n",
        "    sinTheta = sin(currentTheta)\n",
        "\n",
        "    deltaX = destinationX - currentX\n",
        "    deltaY = destinationY - currentY\n",
        "\n",
        "    velocity = vri\n",
        "    omega = -2 * k1 * vri * (deltaX * sinTheta - deltaY * cosTheta) / (deltaX * deltaX + deltaY * deltaY)\n",
        "    \n",
        "    if velocity > highVelocityLimit:\n",
        "      velocity = highVelocityLimit\n",
        "    if (velocity < lowVelocityLimit):\n",
        "      velocity = lowVelocityLimit\n",
        "    if omega > highOmegaLimit:\n",
        "      omega = highOmegaLimit\n",
        "    if (omega < lowOmegaLimit):\n",
        "      omega = lowOmegaLimit\n",
        "\n",
        "    return velocity, omega\n",
        "  return controller"
      ],
      "execution_count": null,
      "outputs": []
    },
    {
      "cell_type": "markdown",
      "metadata": {
        "id": "mZ-uB_wxLLRF"
      },
      "source": [
        "### Advanced controller by RobinsMathew [1]\n",
        "\n",
        "$$ \\begin{pmatrix}\n",
        "v_{ci} \\\\\n",
        "\\omega_{ci}  \n",
        "\\end{pmatrix} = \n",
        "\\begin{pmatrix}\n",
        "v_{ri}\\cdot cos\\theta_{ie}\\\\\n",
        "\\omega_{ri} + k_1\\cdot v_{ri}\\cdot T_{ie} + k_2\\cdot v_{ri}\\cdot sin\\theta_{ie} \n",
        "\\end{pmatrix} $$\n",
        "\n",
        "Where:\n",
        "\n",
        "$v_{ci}$ : is linear velocity of robot\n",
        "\n",
        "$\\omega_{ci}$ : is angular velocity of robot\n",
        "\n",
        "$v_{ri}$ : is reference linear velocity of robot\n",
        "\n",
        "$\\omega_{ri}$ : is reference angular velocity of robot\n",
        "\n",
        "$\\theta_{ie}$ = $\\theta_{wk} - \\theta_i$ : \n",
        "\n",
        "$\\theta_{ie} = \\tan^{-1}(\\frac{y_{wk}-y_i}{x_{wk}-x_i})$   \n",
        "\n",
        "$\\theta_i$ is the orientation of robot\n",
        "\n",
        "$k_1, k_2 > 0$ : are control gains\n",
        "\n",
        "$T_{ie} = sin\\phi\\cdot(x_i - x_{wk}) - cos\\phi\\cdot(y_i - y_{wk})$ : is cross-track error\n",
        "\n",
        "$\\phi = \\tan^{-1}(\\frac{y_{wk}-y_{wk-1}}{x_{wk}-x_{wk-1}})$ is defined as the angle made by the line\n",
        "connecting current waypoint with the previous waypoint\n",
        "\n",
        "$(x_i, y_i, \\theta_i)$ : is current robot position\n",
        "\n",
        "$(x_{wk}, y_{wk}, \\theta_{wk})$ : is waypoint posture\n"
      ]
    },
    {
      "cell_type": "code",
      "metadata": {
        "id": "ljj_8gWjLuLV"
      },
      "source": [
        "def createController_By_RobinsMathew(omega_ri, vri, k1, k2,\n",
        "  lowVelocityLimit, highVelocityLimit, lowOmegaLimit, highOmegaLimit):\n",
        "                                     \n",
        "  def controller(t, currentState, destinationState):\n",
        "    currentX = currentState[0]\n",
        "    currentY = currentState[1]\n",
        "    currentTheta = currentState[2]\n",
        "\n",
        "    destinationX = destinationState[0]\n",
        "    destinationY = destinationState[1]\n",
        "\n",
        "    cosTheta = cos(currentTheta)\n",
        "    sinTheta = sin(currentTheta)\n",
        "    \n",
        "    deltaX = destinationX - currentX\n",
        "    deltaY = destinationY - currentY\n",
        "    theta_destination = atan2(deltaY, deltaX)\n",
        "    theta_error = theta_destination - currentTheta\n",
        "\n",
        "    Te = math.sin(theta_destination)*deltaX - math.cos(theta_destination)*deltaY\n",
        "    velocity = vri*math.cos(theta_error)\n",
        "    omega = omega_ri + k1*vri*Te + k2*vri*math.sin(theta_error)\n",
        "\n",
        "    if velocity > highVelocityLimit:\n",
        "      velocity = highVelocityLimit\n",
        "    if (velocity < lowVelocityLimit):\n",
        "      velocity = lowVelocityLimit\n",
        "    if omega > highOmegaLimit:\n",
        "      omega = highOmegaLimit\n",
        "    if (omega < lowOmegaLimit):\n",
        "      omega = lowOmegaLimit\n",
        "      \n",
        "    return velocity, omega\n",
        "  return controller"
      ],
      "execution_count": null,
      "outputs": []
    },
    {
      "cell_type": "markdown",
      "metadata": {
        "id": "XGTqViYKCBKx"
      },
      "source": [
        "### Lyapunov controller [25]\n",
        "\n",
        "$v = vri\\cdot cos(\\theta_{error})$\n",
        "\n",
        "$\\omega = k_1\\cdot (\\theta_{error}) + vri\\cdot cos(\\theta_{error})\\cdot sin(\\theta_{error})\\cdot (\\theta_{error}+k2\\cdot \\theta_{destination})/\\theta_{error}$\n",
        "\n",
        "Where:\n",
        "\n",
        "$\\Delta x = x_{destination} - x_i$\n",
        "\n",
        "$\\Delta y = y_{destination} - y_i$\n",
        "\n",
        "$v$ : is linear velocity of robot\n",
        "\n",
        "$\\omega$ : is angular velocity of robot\n",
        "\n",
        "$v_{ri}$ : is reference linear velocity of robot\n",
        "\n",
        "$\\omega_{ri}$ : is reference angular velocity of robot\n",
        "\n",
        "$\\theta_{error}$ = $\\theta_{destination} - \\theta$ \n",
        "\n",
        "$\\theta_{deistination} = \\tan^{-1}(\\frac{y_{destination}-y_i}{x_{destination}-x_i})$   \n",
        "\n",
        "$(x_i, y_i, \\theta_i)$ : is current robot position\n",
        "\n",
        "$k_1, k_2 > 0$ : are control gains\n"
      ]
    },
    {
      "cell_type": "code",
      "metadata": {
        "id": "hKMGUrXdBpbR"
      },
      "source": [
        "def createLyapunovController(omega_ri, vri, k1, k2,\n",
        "  lowVelocityLimit, highVelocityLimit, lowOmegaLimit, highOmegaLimit):\n",
        "  def controller(t, currentState, destinationState):\n",
        "    currentX = currentState[0]\n",
        "    currentY = currentState[1]\n",
        "    currentTheta = currentState[2]\n",
        "    \n",
        "    destinationX = destinationState[0]\n",
        "    destinationY = destinationState[1]\n",
        "    \n",
        "    cosTheta = cos(currentTheta)\n",
        "    sinTheta = sin(currentTheta)\n",
        "    \n",
        "    deltaX = destinationX - currentX\n",
        "    deltaY = destinationY - currentY\n",
        "    theta_destination = atan2(deltaY, deltaX)\n",
        "    theta_error = theta_destination - currentTheta\n",
        "\n",
        "    if (theta_error > pi):\n",
        "      theta_error -= 2 * pi\n",
        "    if (theta_error < -pi):\n",
        "      theta_error += 2 * pi\n",
        "\n",
        "    velocity = vri* math.cos(theta_error)\n",
        "    omega = k1*theta_error + vri*math.sin(theta_error)*math.cos(theta_error)*(theta_error+k2*theta_destination)/theta_error\n",
        "    \n",
        "    if velocity > highVelocityLimit:\n",
        "      velocity = highVelocityLimit\n",
        "    if (velocity < lowVelocityLimit):\n",
        "      velocity = lowVelocityLimit\n",
        "    if omega > highOmegaLimit:\n",
        "      omega = highOmegaLimit\n",
        "    if (omega < lowOmegaLimit):\n",
        "      omega = lowOmegaLimit\n",
        " \n",
        "    return velocity, omega\n",
        "  return controller"
      ],
      "execution_count": null,
      "outputs": []
    },
    {
      "cell_type": "markdown",
      "metadata": {
        "id": "f-A1_VMGDnA5"
      },
      "source": [
        "### Clever geometry controller [23]\n",
        "\n",
        "$v = vri \\cdot cos(\\theta_{destination} - \\theta_{current}))$\n",
        "\n",
        "$\\omega = (vri/l) \\cdot sin(\\theta_{destination} - \\theta_{current})$\n",
        "\n",
        "Where:\n",
        "\n",
        "$v_{ri}$ : is reference linear velocity of robot\n",
        "\n",
        "$\\omega_{ri}$ : is reference angular velocity of robot\n",
        "\n",
        "$\\theta_{error}$ = $\\theta_{destination} - \\theta_i$ \n",
        "\n",
        "$\\theta_{deistination} = \\tan^{-1}(\\frac{y_{destination}-y_i}{x_{destination}-x_i})$   \n",
        "\n",
        "$(x_i, y_i, \\theta_i)$ : is current robot position\n",
        "\n",
        "$l > 0$ : is  control gains. In this controller $k1 = \\frac{vri}{l}$\n",
        "\n"
      ]
    },
    {
      "cell_type": "code",
      "metadata": {
        "id": "yooFaiZWDnbL"
      },
      "source": [
        "def createCleverGeometryController(omega_ri, vri, k1,\n",
        "  lowVelocityLimit, highVelocityLimit,lowOmegaLimit, highOmegaLimit):\n",
        "  def controller(t, currentState, destinationState):\n",
        "    currentX = currentState[0]\n",
        "    currentY = currentState[1]\n",
        "    currentTheta = currentState[2]\n",
        "    \n",
        "    destinationX = destinationState[0]\n",
        "    destinationY = destinationState[1]\n",
        "    \n",
        "    cosTheta = cos(currentTheta)\n",
        "    sinTheta = sin(currentTheta)\n",
        "    \n",
        "    deltaX = destinationX - currentX\n",
        "    deltaY = destinationY - currentY\n",
        "    theta_destination = atan2(deltaY, deltaX)\n",
        "    theta_error = theta_destination - currentTheta\n",
        "\n",
        "    if (theta_error > pi):\n",
        "      theta_error -= 2 * pi\n",
        "    if (theta_error < -pi):\n",
        "      theta_error += 2 * pi\n",
        "\n",
        "    velocity = vri *math.cos(theta_error)\n",
        "    omega = k1 * math.sin(theta_error)\n",
        "\n",
        "    if velocity > highVelocityLimit:\n",
        "      velocity = highVelocityLimit\n",
        "    if (velocity < lowVelocityLimit):\n",
        "      velocity = lowVelocityLimit\n",
        "    if omega > highOmegaLimit:\n",
        "      omega = highOmegaLimit\n",
        "    if (omega < lowOmegaLimit):\n",
        "      omega = lowOmegaLimit\n",
        "      \n",
        "    return velocity, omega\n",
        "  return controller"
      ],
      "execution_count": null,
      "outputs": []
    },
    {
      "cell_type": "markdown",
      "metadata": {
        "id": "qVs4dmtYux42"
      },
      "source": [
        "### Advanced controller - Dubins path [16]\n",
        "Dubins curve consists of several circular segments and straight segments. The shortest Dubins curve consists of three circular segments and straight segments. The primary forms are: (RSL, LSL, RSR, LSR, RLR, LRL). Where L, R represent the circular turning to the left and right respectively, S represent the tangent connecting two turning circulars [16].\n",
        "\n",
        "The Dubins Path-based controller is expressed as below:\n",
        "\n",
        "`minimal_radius = k1` is minimal rotation radius of the robot\n",
        "\n",
        "`angle_epsilon = 0.05` is small positive value of the angle \n",
        "\n",
        "$v_{ri}$ is linear reference velocity of the robot\n",
        "\n",
        "` angle_delta = currentTheta - angle_to_destination`\n",
        "\n",
        "- If `angle_delta < - angle_epsilon`, then controller is\n",
        "\n",
        "> $v = v_{ri}$; \n",
        "$\\omega = \\frac {v}{k1}$\n",
        "\n",
        "- If `angle_delta > + angle_epsilon`, then controller is\n",
        "\n",
        "> $v = v_{ri}$; \n",
        "$\\omega = \\frac {-v}{k1}$\n",
        "\n",
        "- If `angle_delta = angle_epsilon`, then controller is\n",
        "\n",
        "> $v = v_{ri}$; \n",
        "$\\omega = 0$"
      ]
    },
    {
      "cell_type": "code",
      "metadata": {
        "id": "pLw26--vu5SB"
      },
      "source": [
        "def createDubinsController(omega_ri, vri, k1, lowVelocityLimit, highVelocityLimit,lowOmegaLimit, highOmegaLimit):\n",
        "  minimal_radius = k1\n",
        "  angle_epsilon = 0.05 # radians\n",
        "  def controller(t, currentState, destinationState):\n",
        "    currentX = currentState[0]\n",
        "    currentY = currentState[1]\n",
        "    currentTheta = currentState[2]\n",
        "    \n",
        "    # hacky, because it could be outside interval <-PI, +PI> :(\n",
        "    while currentTheta < -2 * pi:\n",
        "      currentTheta = currentTheta + 2 * pi\n",
        "    while currentTheta > 2 * pi:\n",
        "      currentTheta = currentTheta - 2 * pi\n",
        "\n",
        "    destinationX = destinationState[0]\n",
        "    destinationY = destinationState[1]\n",
        "\n",
        "    deltaX = destinationX - currentX\n",
        "    deltaY = destinationY - currentY\n",
        "\n",
        "    angle_to_destination = atan2(deltaY, deltaX)\n",
        "\n",
        "    #https://stackoverflow.com/questions/1878907/the-smallest-difference-between-2-angles\n",
        "\n",
        "    angle_delta = currentTheta - angle_to_destination\n",
        "\n",
        "    if (angle_delta > pi):\n",
        "      angle_delta -= 2 * pi\n",
        "    if (angle_delta < -pi):\n",
        "      angle_delta += 2 * pi\n",
        "\n",
        "    if (angle_delta < - angle_epsilon):\n",
        "      # turn on minimal radius\n",
        "      velocity = vri\n",
        "      omega = velocity / minimal_radius\n",
        "    elif (angle_delta > + angle_epsilon):\n",
        "      # turn on minimal radius\n",
        "      velocity = vri\n",
        "      omega = -velocity / minimal_radius\n",
        "    else:\n",
        "      # go straight\n",
        "      velocity = vri\n",
        "      omega = 0\n",
        "\n",
        "    if velocity > highVelocityLimit:\n",
        "      velocity = highVelocityLimit\n",
        "    if (velocity < lowVelocityLimit):\n",
        "      velocity = lowVelocityLimit\n",
        "    if omega > highOmegaLimit:\n",
        "      omega = highOmegaLimit\n",
        "    if (omega < lowOmegaLimit):\n",
        "      omega = lowOmegaLimit\n",
        "\n",
        "    return velocity, omega\n",
        "  return controller"
      ],
      "execution_count": null,
      "outputs": []
    },
    {
      "cell_type": "markdown",
      "metadata": {
        "id": "OjIazxZYefYs"
      },
      "source": [
        "### Advanced controller by Kanayama Controller [1]\n",
        "\n",
        "$$ \\begin{pmatrix}\n",
        "v_{ci} \\\\\n",
        "\\omega_{ci}  \n",
        "\\end{pmatrix} = \n",
        "\\begin{pmatrix}\n",
        "v_{ri}\\cdot cos\\theta_{ie} + k1\\cdot x_{ie}\\\\\n",
        "\\omega_{ri} + k_2\\cdot v_{ri}\\cdot y_{ie} + k_3\\cdot v_{ri}\\cdot sin\\theta_{ie} \n",
        "\\end{pmatrix} $$\n",
        "\n",
        "Where:\n",
        "\n",
        "$v_{ci}$ : is linear velocity of robot\n",
        "\n",
        "$\\omega_{ci}$ : is angular velocity of robot\n",
        "\n",
        "$v_{ri}$ : is reference linear velocity of robot\n",
        "\n",
        "$\\omega_{ri}$ : is reference angular velocity of robot\n",
        "\n",
        "$\\theta_{ie}$ = $\\theta_{wk} - \\theta_i$ : \n",
        "\n",
        "$\\theta_{ie}$ = $\\tan^{-1}(\\frac{y_{wk}-y_i}{x_{wk}-x_i})$   \n",
        "\n",
        "$\\theta_i$ is the orientation of robot\n",
        "\n",
        "$k_1, k_2, k_3$ : are control gains\n",
        "\n",
        "$x_{ie} = cos\\theta_i\\cdot (x_{wk} - x_i) + sin\\theta_i\\cdot(y_{wk} - y_i)$ \n",
        "\n",
        "$y_{ie} = -sin\\theta_i\\cdot(x_{wk} - x_i) + cos\\theta_i\\cdot(y_{wk} - y_i)$ \n",
        "\n",
        "$(x_i, y_i, \\theta_i)$ : is current robot position\n",
        "\n",
        "$(x_{wk}, y_{wk}, \\theta_{wk})$ : is waypoint posture\n"
      ]
    },
    {
      "cell_type": "code",
      "metadata": {
        "id": "uW-Np-rdejxW"
      },
      "source": [
        "def createController_By_Kanayama(omega_ri, vri, k1, k2, k3,\n",
        "  lowVelocityLimit, highVelocityLimit, lowOmegaLimit, highOmegaLimit):\n",
        "  def controller(t, currentState, destinationState):\n",
        "    currentX = currentState[0]\n",
        "    currentY = currentState[1]\n",
        "    currentTheta = currentState[2]\n",
        "\n",
        "    destinationX = destinationState[0]\n",
        "    destinationY = destinationState[1]\n",
        "\n",
        "    cosTheta = cos(currentTheta)\n",
        "    sinTheta = sin(currentTheta)\n",
        "    \n",
        "    deltaX = destinationX - currentX\n",
        "    deltaY = destinationY - currentY\n",
        "    theta_destination = atan2(deltaY, deltaX)\n",
        "    theta_error = theta_destination - currentTheta\n",
        "\n",
        "    x_ie = cosTheta*deltaX + sinTheta*deltaY\n",
        "    y_ie = cosTheta*deltaY - sinTheta*deltaX\n",
        "    velocity = vri*math.cos(theta_error) + k1*x_ie\n",
        "    omega = omega_ri + k2*vri*y_ie + k3*vri*math.sin(theta_error)\n",
        "\n",
        "    if velocity > highVelocityLimit:\n",
        "      velocity = highVelocityLimit\n",
        "    if (velocity < lowVelocityLimit):\n",
        "      velocity = lowVelocityLimit\n",
        "    if omega > highOmegaLimit:\n",
        "      omega = highOmegaLimit\n",
        "    if (omega < lowOmegaLimit):\n",
        "      omega = lowOmegaLimit\n",
        "          \n",
        "    return velocity, omega\n",
        "  return controller"
      ],
      "execution_count": null,
      "outputs": []
    },
    {
      "cell_type": "markdown",
      "metadata": {
        "id": "KPBYhX7Du_K8"
      },
      "source": [
        "### Define your controller here"
      ]
    },
    {
      "cell_type": "code",
      "metadata": {
        "id": "xB0AUxXsvC7t"
      },
      "source": [
        "def createAnotherController(paramA, paramB, paramC):#sd\n",
        "  def controller(t, currentState, destinationState):\n",
        "    currentX = currentState[0]\n",
        "    currentY = currentState[1]\n",
        "    currentTheta = currentState[2]\n",
        "\n",
        "    #calulcate velocity and omega on your own\n",
        "    velocity = 1\n",
        "    omega = 0\n",
        "\n",
        "    return velocity, omega\n",
        "  return controller"
      ],
      "execution_count": null,
      "outputs": []
    },
    {
      "cell_type": "markdown",
      "metadata": {
        "id": "pI9-KpSaExXU"
      },
      "source": [
        "## Simulation"
      ]
    },
    {
      "cell_type": "markdown",
      "metadata": {
        "id": "OBpgwcqAuuZ8"
      },
      "source": [
        "### Paths Definition"
      ]
    },
    {
      "cell_type": "code",
      "metadata": {
        "id": "iDTovkk1hDjq"
      },
      "source": [
        "# Square path\n",
        "def pathA():\n",
        "  yield 0, 0, 0  #X, Y, orientation\n",
        "  yield 10, 0, 0 #X, Y, orientation\n",
        "  yield 10, 10, 0#X, Y, orientation\n",
        "  yield 0, 10, 0 #X, Y, orientation\n",
        "  yield 0, 0, 0 #X, Y, orientation"
      ],
      "execution_count": null,
      "outputs": []
    },
    {
      "cell_type": "code",
      "metadata": {
        "id": "ukFmy-xSuz-g"
      },
      "source": [
        "# StraightFoward path\n",
        "def pathB():\n",
        "  yield 0, 0, 0 #X, Y, orientation\n",
        "  yield 10, 0, 0 #X, Y, orientation\n",
        "  yield 20, 10, 0 #X, Y, orientation\n",
        "  yield 30, 10, 0 #X, Y, orientation\n",
        "  yield 25, 20, 0 #X, Y, orientation"
      ],
      "execution_count": null,
      "outputs": []
    },
    {
      "cell_type": "code",
      "metadata": {
        "id": "_ia79twnZmHK"
      },
      "source": [
        "# StraightFoward path with many waypoint\n",
        "def pathC():\n",
        "  yield 0, 0, 0 #X, Y, orientation\n",
        "  x1 = 3\n",
        "  for x1 in range (3,10):\n",
        "    yield x1, 0, 0\n",
        "    x1 = x1 + 1\n",
        "  yield 10, 0, 0 #X, Y, orientation\n",
        "  x2 = 12\n",
        "  y2 = 2\n",
        "  for x2 in range (12,20):\n",
        "    yield x2, y2, 0\n",
        "    x2 = x2 + 1\n",
        "    y2 = y2 + 1\n",
        "  yield 20, 10, 0 #X, Y, orientation\n",
        "  x3 = 24\n",
        "  for x3 in range(24, 30):\n",
        "    yield x3, 10, 0\n",
        "    x3 = x3+1\n",
        "  yield 30, 10, 0 #X, Y, orientation\n",
        "  yield 27.5, 15, 0\n",
        "  yield 26.5, 17, 0\n",
        "  yield 25.5, 19, 0\n",
        "  yield 25, 20, 0 #X, Y, orientation"
      ],
      "execution_count": null,
      "outputs": []
    },
    {
      "cell_type": "code",
      "metadata": {
        "id": "poDNn4JORWxS"
      },
      "source": [
        "# Diamond-Shape path\n",
        "def pathD():\n",
        "  yield 0, 0, 0 #X, Y, orientation\n",
        "  yield 10, -5, 0 #X, Y, orientation\n",
        "  yield 20, 0, 0 #X, Y, orientation\n",
        "  yield 10, 5, 0 #X, Y, orientation\n",
        "  yield 0, 0, 0 #X, Y, orientation"
      ],
      "execution_count": null,
      "outputs": []
    },
    {
      "cell_type": "code",
      "metadata": {
        "id": "DoQiVJDztTb8"
      },
      "source": [
        "# Sharp turn path\n",
        "def pathE():\n",
        "  yield 0, 0, 0 #X, Y, orientation\n",
        "  yield 0, 5, 0 #X, Y, orientation\n",
        "  yield 5, 0, 0 #X, Y, orientation\n",
        "  yield 5, 10, 0 #X, Y, orientation\n",
        "  yield 25, 0, 0 #X, Y, orientation"
      ],
      "execution_count": null,
      "outputs": []
    },
    {
      "cell_type": "markdown",
      "metadata": {
        "id": "0fhLTm08v5fe"
      },
      "source": [
        "### Define your path here"
      ]
    },
    {
      "cell_type": "code",
      "metadata": {
        "id": "JbQZ3ugWv9FH"
      },
      "source": [
        "def pathF():\n",
        "  #for every single point on path express\n",
        "  yield 0, 0, 0 #X, Y, orientation\n",
        "  #repeat it until done\n",
        "  "
      ],
      "execution_count": null,
      "outputs": []
    },
    {
      "cell_type": "code",
      "metadata": {
        "id": "U4C0LiWqUSRV"
      },
      "source": [
        "paths = [ \n",
        "  {'name': 'Square path', 'func': pathA, \n",
        "   'tags' :['Square path', 'Main']},\n",
        "  {'name': 'Straightforward path', 'func': pathB, \n",
        "   'tags' :['Straightforward path', 'Main', 'Supportive']},\n",
        "  {'name': 'Straightforward path with many waypoints', 'func': pathC, \n",
        "   'tags': ['Straightforward path with many waypoints','Main', 'Supportive']},\n",
        "  {'name': 'Diamond-Shape path', 'func': pathD, \n",
        "   'tags': ['Diamond-Shape path','Main']},\n",
        "  {'name': 'Sharp turn path', 'func': pathE, \n",
        "   'tags': ['Sharp turn path','Main']},\n",
        "  {'name': 'Custom', 'func': pathF, 'tags': ['Custom']} \n",
        "   ]"
      ],
      "execution_count": null,
      "outputs": []
    },
    {
      "cell_type": "markdown",
      "metadata": {
        "id": "eyS-090qJr8_"
      },
      "source": [
        "### Experiment Description"
      ]
    },
    {
      "cell_type": "code",
      "metadata": {
        "id": "g5c5R5qKSuTN"
      },
      "source": [
        "experiments = [\n",
        "    { 'name': 'Circle [v = 1.0, g = 4]',\n",
        "      'description':\n",
        "        {'controllerCreator': createCircleControllerWithGain, \n",
        "        'omega_ri': 0,'vri': 1.0, 'k1': 4.0\n",
        "        },\n",
        "      'plotstyle':\n",
        "        {'linestyle': '-', 'color': 'g', 'lw': 1,\n",
        "        'label': 'Feedback-based controller $G = 4$'\n",
        "        },      \n",
        "      'tags': ['Main', 'Circle', 'Low Energy']\n",
        "    },\n",
        "    { 'name': 'Circle_2nd [v = 0.8, g = 4]',\n",
        "      'description':\n",
        "        {'controllerCreator': createCircleControllerWithGain, \n",
        "        'omega_ri': 0,'vri': 0.8, 'k1': 4.0,\n",
        "        'highVelocityLimit': 0.8\n",
        "        },\n",
        "      'plotstyle':\n",
        "        {'linestyle': '-', 'color': 'r', 'lw': 1,\n",
        "        'label': 'Feedback-based controller 2nd $G = 4$'\n",
        "        },      \n",
        "      'tags': ['Circle']\n",
        "    },\n",
        "    { 'name': 'Circle_3rd [v = 0.5, g = 4]',\n",
        "      'description':\n",
        "        {'controllerCreator': createCircleControllerWithGain, \n",
        "        'omega_ri': 0,'vri': 0.5, 'k1': 4.0,\n",
        "        'highVelocityLimit': 0.5\n",
        "        },\n",
        "      'plotstyle':\n",
        "        {'linestyle': '-', 'color': 'k', 'lw': 1,\n",
        "        'label': 'Feedback-based controller 3rd $G = 4$'\n",
        "        },      \n",
        "      'tags': ['Circle']\n",
        "    },\n",
        "    { 'name': 'Circle [v = 1.0, g = 8]',\n",
        "      'description':\n",
        "        {'controllerCreator': createCircleControllerWithGain, \n",
        "        'omega_ri': 0,'vri': 1.0, 'k1': 8.0,\n",
        "        },\n",
        "      'plotstyle':\n",
        "        {'linestyle': '--', 'color': 'g', 'lw': 1,\n",
        "        'label': 'Feedback-based controller $G = 8$'\n",
        "        },\n",
        "      'tags': ['Main', 'Low Energy']\n",
        "    },\n",
        "    { 'name': 'Dubins',\n",
        "      'description':\n",
        "        {'controllerCreator': createDubinsController, \n",
        "        'omega_ri': 0, 'vri': 1.0, 'k1': 1.0,\n",
        "        },\n",
        "      'plotstyle':\n",
        "        {'linestyle': '--', 'color': 'maroon', 'lw': 1, \n",
        "        'label': 'Dubins-based controller'\n",
        "        },\n",
        "      'tags': ['Main', 'Dubins', 'Low Energy']    \n",
        "    },\n",
        "    \n",
        "    { 'name': 'Dubins_2nd',\n",
        "      'description':\n",
        "        {'controllerCreator': createDubinsController, \n",
        "        'omega_ri': 0, 'vri': 1.1, 'k1': 1.0,\n",
        "        'highVelocityLimit': 1.1\n",
        "        },\n",
        "      'plotstyle':\n",
        "        {'linestyle': '-', 'color': 'g', 'lw': 1, \n",
        "        'label': 'Dubins-based controller 2nd'\n",
        "        },\n",
        "      'tags': ['Dubins']     \n",
        "    },\n",
        "    { 'name': 'Dubins_3rd',\n",
        "      'description':\n",
        "        {'controllerCreator': createDubinsController, \n",
        "        'omega_ri': 0, 'vri': 1.15, 'k1': 1.0,\n",
        "        'highVelocityLimit': 1.15\n",
        "        },\n",
        "      'plotstyle':\n",
        "        {'linestyle': '-', 'color': 'r', 'lw': 1, \n",
        "        'label': 'Dubins-based controller 3rd'\n",
        "        },\n",
        "      'tags': ['Dubins']     \n",
        "    },\n",
        "    { 'name': 'Lyapunov',\n",
        "      'description':\n",
        "        {'controllerCreator': createLyapunovController, \n",
        "        'omega_ri': 0,'vri': 1.0, 'k1': 5.0, 'k2': 0.01,\n",
        "        },\n",
        "      'plotstyle':\n",
        "        {'linestyle': '-', 'color': 'r', 'lw': 1,\n",
        "        'label': 'Lyapunov-based controller'\n",
        "        },\n",
        "      'tags': ['Main', 'Lyapunov', 'High Energy']\n",
        "    },    \n",
        "    { 'name': 'Lyapunov 2nd',\n",
        "      'description':\n",
        "        {'controllerCreator': createLyapunovController, \n",
        "        'omega_ri': 0,'vri': 1.1, 'k1': 5.0, 'k2': 0.01,\n",
        "        'highVelocityLimit': 1.1\n",
        "        },\n",
        "      'plotstyle':\n",
        "        {'linestyle': '--', 'color': 'g', 'lw': 1,\n",
        "        'label': 'Lyapunov-based controller vri = 1.1 m/s'\n",
        "        },\n",
        "      'tags': ['Lyapunov']\n",
        "    },\n",
        "    { 'name': 'Lyapunov 3rd',\n",
        "      'description':\n",
        "        {'controllerCreator': createLyapunovController, \n",
        "        'omega_ri': 0,'vri': 1.15, 'k1': 5.0, 'k2': 0.01,\n",
        "        'highVelocityLimit': 1.15\n",
        "        },\n",
        "      'plotstyle':\n",
        "        {'linestyle': '-', 'color': 'indigo', 'lw': 1,\n",
        "        'label': 'Lyapunov-based controller vri = 1.15 m/s'\n",
        "        },\n",
        "      'tags': ['Lyapunov']\n",
        "    },\n",
        "\n",
        "    { 'name': 'Geometry',\n",
        "      'description':\n",
        "        {'controllerCreator': createCleverGeometryController, \n",
        "        'omega_ri': 0,'vri': 1.0, 'k1': 7.0,\n",
        "        },\n",
        "      'plotstyle':\n",
        "        {'linestyle': '-', 'color': 'indigo', 'lw': 1,\n",
        "        'label': 'Geometry-based controller'\n",
        "        },\n",
        "      'tags': ['Main', 'High Energy']\n",
        "    },\n",
        "    { 'name': 'RobinsMathew',\n",
        "      'description':\n",
        "        {'controllerCreator': createController_By_RobinsMathew, \n",
        "        'omega_ri':0, 'vri': 1.0, 'k1': 1.5, 'k2': 6.5,\n",
        "        },\n",
        "      'plotstyle':\n",
        "        {'linestyle': '-', 'color': 'k', 'lw': 1, \n",
        "        'label': 'RobinsMathew-based controller'\n",
        "        },\n",
        "      'tags': ['Main', 'RobinsMathew', 'High Energy']    \n",
        "    },\n",
        "\n",
        "    { 'name': 'RobinsMathew 2nd',\n",
        "      'description':\n",
        "        {'controllerCreator': createController_By_RobinsMathew, \n",
        "        'omega_ri':0, 'vri': 1.1, 'k1': 1.5, 'k2': 6.5,\n",
        "        'highVelocityLimit': 1.1\n",
        "        },\n",
        "      'plotstyle':\n",
        "        {'linestyle': '-', 'color': 'r', 'lw': 1, \n",
        "        'label': 'RobinsMathew-based controller 2nd'\n",
        "        },\n",
        "      'tags': ['RobinsMathew']    \n",
        "    },\n",
        "\n",
        "    { 'name': 'RobinsMathew 3rd',\n",
        "      'description':\n",
        "        {'controllerCreator': createController_By_RobinsMathew, \n",
        "        'omega_ri':0, 'vri': 1.15, 'k1': 1.5, 'k2': 6.5,\n",
        "        'highVelocityLimit': 1.15\n",
        "        },\n",
        "      'plotstyle':\n",
        "        {'linestyle': '--', 'color': 'g', 'lw': 1, \n",
        "        'label': 'RobinsMathew-based controller 3rd'\n",
        "        },\n",
        "      'tags': ['RobinsMathew']    \n",
        "    },\n",
        "    \n",
        "    { 'name': 'Kanayama',\n",
        "      'description':\n",
        "        {'controllerCreator': createController_By_Kanayama, \n",
        "        'omega_ri':0, 'vri': 1.0, 'k1': 0.001, 'k2': 0.1, 'k3': 5,\n",
        "        },\n",
        "      'plotstyle':\n",
        "        {'linestyle': '--', 'color': 'k', 'lw': 1, \n",
        "        'label': 'Kanayama-based controller'\n",
        "        },\n",
        "      'tags': ['Main', 'High Energy']\n",
        "    }\n",
        "    #insert you new controller here\n",
        "    ]"
      ],
      "execution_count": null,
      "outputs": []
    },
    {
      "cell_type": "code",
      "metadata": {
        "id": "QRSto5CaIXcq"
      },
      "source": [
        "def ApplyExperimentsOnPath(path, experiments = experiments,\n",
        "  #shared limits on velicities and omegas\n",
        "  slVelocityLow = 0.2,\n",
        "  slVelocityHigh = 1.0,\n",
        "  slOmegaLow = -0.75,\n",
        "  slOmegaHigh = 0.75):\n",
        "\n",
        "  #MovementLimits could be redefined in controllers description\n",
        "  MovementLimits = {'lowVelocityLimit': slVelocityLow, \n",
        "    'highVelocityLimit': slVelocityHigh, \n",
        "    'lowOmegaLimit': slOmegaLow, \n",
        "    'highOmegaLimit': slOmegaHigh}\n",
        "\n",
        "  result = []\n",
        "  for item in experiments:\n",
        "    newExperiment = {\n",
        "        'name': item['name'],\n",
        "        'description': {**MovementLimits, **item['description'], 'path': path()},\n",
        "        'plotstyle': {**item['plotstyle']},\n",
        "        'tags': item['tags']\n",
        "    }\n",
        "    result.append(newExperiment)\n",
        "\n",
        "  return result"
      ],
      "execution_count": null,
      "outputs": []
    },
    {
      "cell_type": "markdown",
      "metadata": {
        "id": "OvZ94OkjJyHz"
      },
      "source": [
        "### Execution"
      ]
    },
    {
      "cell_type": "code",
      "metadata": {
        "id": "twsZ24lQJ1uP"
      },
      "source": [
        "\n",
        "#just those paths which tags attribute cointains tagValuePaths will be used for experiments\n",
        "tagValuePaths = 'main'\n",
        "selectedPaths = list(filter(lambda item: tagValuePaths in item['tags'], paths))\n",
        "#just those described experiment which contains inside tags tagValue will be executed\n",
        "tagValue = 'Main' #main experiment, \n",
        "selectedExperimentsDescription = list(filter(lambda item: tagValue in item['tags'], experiments))\n",
        "\n",
        "def executeSelectedExperiments(\n",
        "    experimentsDescription = selectedExperimentsDescription,\n",
        "    paths = selectedPaths):\n",
        "  allResults = [] #storage for all experiments\n",
        "\n",
        "  for pathDesc in paths: # for all paths\n",
        "    currentPath = pathDesc['func'] \n",
        "    experiments = ApplyExperimentsOnPath(\n",
        "        path = currentPath, \n",
        "        experiments = experimentsDescription) # create experiments for currentPath\n",
        "\n",
        "    p0 = None\n",
        "    if robot == robotWithDynamic:\n",
        "      p0 = np.array([start_x, start_y, start_theta, 0, 0, 0, 0, 0, 0, 0]) # x0=0, y0=0, theta\n",
        "    else:\n",
        "      p0 = np.array([start_x, start_y, start_theta, 0, 0, 0]) # x0=0, y0=0,theta\n",
        "\n",
        "    #execute all experiments\n",
        "    results = runSimulations(\n",
        "      experimentsDescription = experiments, path = currentPath(),\n",
        "      state0 = p0, t0 = 0, t_bound = 100, max_step = 0.05) \n",
        "    \n",
        "    #retrieve text values from experiments\n",
        "    text = list(ExtractData(experimentsDescription = experiments, \n",
        "                            experimentsResults = results, path = currentPath()))   \n",
        "    \n",
        "    #store experiments results\n",
        "    allResults.append({\n",
        "        'pathDesc': pathDesc,\n",
        "        'description': experimentsDescription,\n",
        "        'results': results,\n",
        "        'texts': text})\n",
        "  return allResults\n",
        "  \n",
        "allResults = executeSelectedExperiments(\n",
        "    selectedExperimentsDescription, selectedPaths)"
      ],
      "execution_count": null,
      "outputs": []
    },
    {
      "cell_type": "markdown",
      "metadata": {
        "id": "y9pOaGLnV93S"
      },
      "source": [
        "## Simulation results"
      ]
    },
    {
      "cell_type": "markdown",
      "metadata": {
        "id": "g9nJFdODQS1D"
      },
      "source": [
        "### Simulation text results"
      ]
    },
    {
      "cell_type": "code",
      "metadata": {
        "id": "HA5FxgP8KQL6"
      },
      "source": [
        "def textOutput(allResults):\n",
        "  for item in allResults:\n",
        "    pathDesc = item['pathDesc']\n",
        "    #experimentsDescription = item['description']\n",
        "    #results = item['results']  \n",
        "    text = item['texts']\n",
        "\n",
        "    print('*' * 30)\n",
        "    print('*', 'Path name:', pathDesc['name'])\n",
        "    print('*' * 30)\n",
        "    displayTable(text)\n",
        "    \n",
        "textOutput(allResults)"
      ],
      "execution_count": null,
      "outputs": []
    },
    {
      "cell_type": "markdown",
      "metadata": {
        "id": "8WXrDf0FRJgp"
      },
      "source": [
        "### Simulation image output size settings"
      ]
    },
    {
      "cell_type": "code",
      "metadata": {
        "id": "E720H9wxRR9s"
      },
      "source": [
        "smallImages = False\n",
        "if smallImages:\n",
        "  plt.rcParams[\"font.size\"] = \"10\"\n",
        "  plt.rcParams[\"figure.figsize\"] = (15, 10)\n",
        "else:\n",
        "  plt.rcParams[\"font.size\"] = \"18\"\n",
        "  plt.rcParams[\"figure.figsize\"] = (25, 24)"
      ],
      "execution_count": null,
      "outputs": []
    },
    {
      "cell_type": "markdown",
      "metadata": {
        "id": "8tpUPWTMQXe8"
      },
      "source": [
        "### Simulation all visualizations"
      ]
    },
    {
      "cell_type": "code",
      "metadata": {
        "id": "awxAh8VuP0xc"
      },
      "source": [
        "def allVisualizations(allResults):\n",
        "  for item in allResults:\n",
        "    #path = item['path']\n",
        "    pathDesc = item['pathDesc']\n",
        "    experimentsDescription = item['description']\n",
        "    results = item['results']  \n",
        "    #text = item['texts']\n",
        "    plotAllInOne(\n",
        "      experimentsDescription = experimentsDescription,\n",
        "      experimentsResults = results, \n",
        "      path = pathDesc['func']())\n",
        "  \n",
        "allVisualizations(allResults)"
      ],
      "execution_count": null,
      "outputs": []
    },
    {
      "cell_type": "markdown",
      "metadata": {
        "id": "lOCzciVysQG3"
      },
      "source": [
        "### Simulation paths visualizations"
      ]
    },
    {
      "cell_type": "code",
      "metadata": {
        "id": "paTc2tXyLZ22"
      },
      "source": [
        "def pathVisualizations(allResults):\n",
        "  for item in allResults:\n",
        "    #path = item['path']\n",
        "    pathDesc = item['pathDesc']\n",
        "    experimentsDescription = item['description']\n",
        "    results = item['results']  \n",
        "    #text = item['texts']\n",
        "    plotSimulationsPaths(\n",
        "      experimentsDescription = experimentsDescription,\n",
        "      experimentsResults = results, \n",
        "      path = pathDesc['func']())\n",
        "    \n",
        "pathVisualizations(allResults)"
      ],
      "execution_count": null,
      "outputs": []
    },
    {
      "cell_type": "markdown",
      "metadata": {
        "id": "mtaSdzMuQp32"
      },
      "source": [
        "### Simulation robot distance in time visualization"
      ]
    },
    {
      "cell_type": "code",
      "metadata": {
        "id": "9HyEi37dOXL9"
      },
      "source": [
        "def distanceVisualization(allResults):\n",
        "  for item in allResults:\n",
        "    #path = item['path']\n",
        "    #pathDesc = item['pathDesc']\n",
        "    experimentsDescription = item['description']\n",
        "    results = item['results']  \n",
        "    #text = item['texts']\n",
        "    plotValueAndTime(\n",
        "        experimentsDescription = experimentsDescription, \n",
        "        experimentsResults = results)\n",
        "\n",
        "distanceVisualization(allResults)    "
      ],
      "execution_count": null,
      "outputs": []
    },
    {
      "cell_type": "markdown",
      "metadata": {
        "id": "KWavESICQ-qe"
      },
      "source": [
        "### Simulation robot energy in time visualization"
      ]
    },
    {
      "cell_type": "code",
      "metadata": {
        "id": "nIBpWY4GPgJu"
      },
      "source": [
        "def energyVisualization(allResults):\n",
        "  for item in allResults:\n",
        "    #path = item['path']\n",
        "    #pathDesc = item['pathDesc']\n",
        "    experimentsDescription = item['description']\n",
        "    results = item['results']  \n",
        "    #text = item['texts']\n",
        "    plotValueAndTime(\n",
        "      experimentsDescription = experimentsDescription, \n",
        "      experimentsResults = results, yIndex = 6, yLabel = '$E[J]$')\n",
        "    \n",
        "energyVisualization(allResults)    "
      ],
      "execution_count": null,
      "outputs": []
    },
    {
      "cell_type": "markdown",
      "metadata": {
        "id": "mnqp0djEO5OR"
      },
      "source": [
        "## Interactive Simulation"
      ]
    },
    {
      "cell_type": "code",
      "metadata": {
        "id": "a-WT7LB6O91s",
        "outputId": "ce67be18-24d1-4a1f-d005-e083af99a086",
        "colab": {
          "base_uri": "https://localhost:8080/",
          "height": 530,
          "referenced_widgets": [
            "17a18408c47d4eeb99c79d24ae6d6ca7",
            "ec15f715f0fe44009ff92499d14af05e",
            "785ca1e6bba244798229e69b4d3de452",
            "d11fe380779c417ca15ad4804fa28b7a",
            "39b086ca9e434899b1f4345e66de61df",
            "b7028f31a04546449297debb240d81b6",
            "8ec3b8bb09714fa79f602b5a99f80946",
            "e73af6fb55544cafafee3b4e9730a4b3",
            "9e495366db034a07843bf252498528ea",
            "f849393e3a9f46beb2993e852826121d",
            "f367f0a1990449d98dfc89e22b3e7cf9",
            "b6f5a533980448ef93d22579d2b56cec",
            "f3508c96b9bd482dbcb51f204d255e98",
            "be7c78495eb74d8b9b957af494b5a211",
            "e7a3ad5f0a964c88b9fe316926c6798b",
            "c0bf25c6ec84405f8144d914591e6156"
          ]
        }
      },
      "source": [
        "from ipywidgets import interact\n",
        "\n",
        "exTags = []\n",
        "for item in experiments:\n",
        "  for tag in item['tags']:\n",
        "    if not tag in exTags:\n",
        "      exTags.append(tag)\n",
        "\n",
        "pathTags = []\n",
        "for item in paths:\n",
        "  for tag in item['tags']:\n",
        "    if not tag in pathTags:\n",
        "      pathTags.append(tag)\n",
        "\n",
        "visualizations = {\n",
        "    'text': textOutput,\n",
        "    'all': allVisualizations,\n",
        "    'path': pathVisualizations,\n",
        "    'distance': distanceVisualization,\n",
        "    'energy': energyVisualization,\n",
        "}\n",
        "\n",
        "oldpathTag = None\n",
        "oldexperimTag = None\n",
        "\n",
        "def runIt(experimTag, pathTag, visualizations, smallImages):\n",
        "  global oldpathTag\n",
        "  global oldexperimTag\n",
        "  global allResults\n",
        "\n",
        "  if smallImages:\n",
        "    plt.rcParams[\"font.size\"] = \"15\"\n",
        "    plt.rcParams[\"figure.figsize\"] = (22, 22)\n",
        "  else:\n",
        "    plt.rcParams[\"font.size\"] = \"20\"\n",
        "    plt.rcParams[\"figure.figsize\"] = (35, 35)\n",
        "\n",
        "  if not((experimTag == oldexperimTag) & (pathTag == oldpathTag)):\n",
        "    print('Simulating, please be patient')\n",
        "\n",
        "    # select appropriate paths\n",
        "    selectedPaths = list(filter(lambda item: pathTag in item['tags'], paths))\n",
        "    # select appropriate experiments\n",
        "    selectedExperimentsDescription = list(filter(lambda item: experimTag in item['tags'], experiments))\n",
        "\n",
        "    # collect results\n",
        "    allResults = executeSelectedExperiments(\n",
        "        selectedExperimentsDescription, selectedPaths)\n",
        "    \n",
        "  visualizations(allResults)\n",
        "  oldpathTag = pathTag\n",
        "  oldexperimTag = experimTag\n",
        "\n",
        "interact(runIt,  \n",
        "         experimTag=exTags,\n",
        "         pathTag=pathTags,\n",
        "         visualizations=visualizations, smallImages=True)"
      ],
      "execution_count": null,
      "outputs": [
        {
          "output_type": "display_data",
          "data": {
            "application/vnd.jupyter.widget-view+json": {
              "model_id": "17a18408c47d4eeb99c79d24ae6d6ca7",
              "version_minor": 0,
              "version_major": 2
            },
            "text/plain": [
              "interactive(children=(Dropdown(description='experimTag', options=('Main', 'Circle', 'Low Energy', 'Dubins', 'L…"
            ]
          },
          "metadata": {
            "tags": []
          }
        },
        {
          "output_type": "execute_result",
          "data": {
            "text/plain": [
              "<function __main__.runIt>"
            ]
          },
          "metadata": {
            "tags": []
          },
          "execution_count": 39
        }
      ]
    },
    {
      "cell_type": "markdown",
      "metadata": {
        "id": "JC_cDjP0Ak06"
      },
      "source": [
        "## References\n",
        "[1]\tR. Mathew and S. S. Hiremath, “Development of Waypoint Tracking Controller for Differential Drive Mobile Robot,” in International Conference on Control, Decision and Information Technologies (CoDIT), Paris, France, 2019, pp. 1121-1126.\n",
        "\n",
        "[2]\tX. Zhou, B. Ma and L. Yan, “Adaptive Output Feedback Tracking Controller for Wheeled Mobile Robots with Unmeasurable Orientation,” in Chinese Control Conference (CCC), Wuhan, 2018, pp. 412-417.\n",
        "\n",
        "[3]\tM. Yallala and S. J. Mija, “Path tracking of differential drive mobile robot using two step feedback linearization based on backstepping,” in International Conference on Innovations in Control, Communication and Information Systems (ICICCI), Greater Noida, India, 2017, pp.1-6.\n",
        "\n",
        "[4]\tN. V. Tinh, N. T. Linh, P. T. Cat, P. M. Tuan, M. N. Anh and N. P. T. Anh, “Modeling and feedback linearization control of a nonholonomic wheeled mobile robot with longitudinal, lateral slips,” in IEEE International Conference on Automation Science and Engineering (CASE), Fort Worth, TX, 2016, pp. 996-1001.\n",
        "\n",
        "[5]\tD. Diaz and R. Kelly, “On modeling and position tracking control of the generalized differential driven wheeled mobile robot,” in IEEE International Conference on Automatica (ICA-ACCA), Curico, 2016, pp. 1-6.\n",
        "\n",
        "[6]\tJ. Meng, A. Liu, Y. Yang, Z. Wu and Q. Xu, “Two-Wheeled Robot Platform Based on PID Control,” in International Conference on Information Science and Control Engineering (ICISCE), Zhengzhou, 2018, pp. 1011-1014.\n",
        "\n",
        "[7]\tS. Peng and W. Shi, “Adaptive Fuzzy Output Feedback Control of a Nonholonomic Wheeled Mobile Robot,” in IEEE Access, 2018, pp. 43414-43424.\n",
        "\n",
        "[8]\tY. Jinhua, Y. Suzhen and J. Xiao, “Trajectory Tracking Control of WMR Based on Sliding Mode Disturbance Observer with Unknown Skidding and Slipping,” in International Conference on Cybernetics, Robotics and Control (CRC), Chengdu, 2017, pp. 18-22.\n",
        "\n",
        "[9]\tF. G. R. Contreras, A. I. C. Lopez, L. Fridman and V. J. G. Villela, “Trajectory tracking using continuous sliding mode algorithms for differential drive robots ,” in IEEE Annual Conference on Decision and control (CDC), Melbourne, Australia, 2017, pp. 6027-6032.\n",
        "\n",
        "[10]\tB. B. Mevo, M. R. Saad and R. Fareh, “Adaptive Sliding Mode Control of Wheeled Mobile Robot with Nonlinear Model and Uncertainties,” in  IEEE Canadian Conference on Electrical & Computer Engineering (CCECE), Quebec City, QC, 2018, pp. 1-5.\n",
        "\n",
        "[11]\tP. Petrov and V. Georgieva, “Adaptive Velocity Control for a Differential Drive Mobile Robot,” in International Symposium on Electrical Apparatus and Technologies (SIELA), Bourgas, 2018, pp. 1-4.\n",
        "\n",
        "[12]\tŠtefek A., Křivánek V., Bergeon Y.T., Motsch J, “Differential Drive Robot: Spline-Based Design of Circular Path”. In: Awrejcewicz J. (eds) Dynamical Systems: Theoretical and Experimental Analysis. Springer Proceedings in Mathematics & Statistics, vol 182. Springer, Cham, 2016, pp 331-342.\n",
        "\n",
        "[13]\tSpyros G. Tzafestas, “Introduction to Mobile Robot Control,” in Elsevier, 1st ed., 2014, pp. 159–169.\n",
        "\n",
        "[14]\tA L. Nelsona, G J. Barlowb, L. Doitsidisc, “Fitness functions in evolutionary robotics: A survey and analysis,” Journal of Robotics and Autonomous Systems, vol.57, issue 4: pp. 345-370, April. 2009. DOI: https://doi.org/10.1016/j.robot.2008.09.009\n",
        "\n",
        "[15]\tR. L. S. Sousa, M. D. do Nascimento Forte, F. G. Nogueira and B. C. Torrico, “Trajectory tracking control of a nonholonomic mobile robot with differential drive,” in IEEE Biennial Congress of Argentina (ARGENCON), Buenos Aires, Argentina, 2016, pp. 1-6.\n",
        "\n",
        "[16]\tB. Shi, Y. Su, C. Wang, L. Wan and Y. Qi, “Recovery Path Planning Algorithm Based on Dubins Curve for Autonomous Underwater Vehicle,” in IEEE 8th International Conference on Underwater System Technology: Theory and Applications (USYS), Wuhan, China, 2018, pp. 1-5.\n",
        "\n",
        "[17]\tM. Begnini, D. W. Bertol, N. A. Martinsa, “A robust adaptive fuzzy variable structure tracking control for the wheeled mobile robot: Simulation and experimental results,” ELSEVIER J. Control Engineering Practice, vol. 64, pp. 27-43, July. 2017. DOI: https://doi.org/10.1016/j.conengprac.2017.04.006. \n",
        "\n",
        "[18]\tS. Peng and W. Shi, “Adaptive Fuzzy Output Feedback Control of a Nonholonomic Wheeled Mobile Robot,” IEEE J. Control Engineering Practice, vol. 64, pp. 27-43, Aug. 2018. DOI: 10.1109/ACCESS.2018.2862163.\n",
        "\n",
        "[19]\tM. Yue, L. Wang, and T. Ma, “Neural Network Based Terminal Sliding Mode Control for WMRs Affected by an Augmented Ground Friction With Slippage Effect,” J. of Automatica, vol. 4, pp. 498 - 506, July. 2017.\n",
        "\n",
        "[20]\tH. Yang, X. Fan, P. Shi and C. Hua, “Nonlinear Control for Tracking and Obstacle Avoidance of a Wheeled Mobile Robot With Nonholonomic Constraint,” IEEE J. Transactions on Control Systems Technology, vol. 24, no. 2, pp. 741-746, March. 2016. DOI: 10.1109/TCST.2015.2457877.\n",
        "\n",
        "[21]\tL. Xin, Q. Wang, J. She, Y. Li, “Robust adaptive tracking control of wheeled mobile robot,” ELSEVIER J. Robotics and Autonomous Systems, vol. 78, pp. 36-48, April. 2016. DOI: https://doi.org/10.1016/j.robot.2016.01.002. \n",
        "\n",
        "[22]\tM. Wahab, F. R. Gutierrez, A. E. Shahat “Energy Modeling of Differential Drive Robots,” in IEEE SoutheastCon, Florida, 2015, pp. 1-6.\n",
        "\n",
        "[23]\tS. Armah, S. Yi and T. A. Lebdeh, “Implementation of autonomous navigation algorithms on two-wheeled ground mobile robot,” American J. Engineering and Applied Sciences, vol. 78, pp. 36-48, April. 2016. DOI: 10.3844/ajeassp.2014.149.164.\n",
        "\n",
        "[24]\tL. A. Yekimi, A. D. Isa “Fuzzy Logic Control of Goal-Seeking 2-Wheel Differential Mobile Robot Using Unicycle Approach,” in IEEE International Conference on Automatic Control and Intelligent Systems (I2CACIS 2019), Selangor, Malaysia, 2019, pp. 300-304.\n",
        "\n",
        "[25]\tP. Xinzhe, L. Zhiyuan, P. Run and C. Hong, “Practical stabilization of wheeled mobile robots based on control Lyapunov function,” in IEEE Proceedings of the International Conference on Control Applications, Glasgow, UK, 2002, pp. 345-349 vol.1.\n",
        "\n",
        "[26]\tH. Chitsaz, S. M. LaValle, D. J. Balkcom and M. T. Mason, “Minimum wheel-rotation paths for differential-drive mobile robots,” in IEEE International Conference on Robotics and Automation, Orlando, Florida, 2006, pp. 1616-1623.\n",
        "\n",
        "[27]\tX. Song and S. Hu, “2D path planning with dubins-path-based A∗ algorithm for a fixed-wing UAV,” in IEEE IEEE International Conference on Control Science and Systems Engineering (ICCSSE), Beijing, 2017, pp. 69-73.\n",
        "\n",
        "[28]\tElbanhawi, M., Simic, M. & Jazar, R.N, “Continuous Path Smoothing for Car-Like Robots Using B-Spline Curves,” J Intell Robot Syst 80, pp. 23–56, Jan. 2015. DOI: https://doi.org/10.1007/s10846-014-0172-0.\n",
        "\n",
        "[29]\tS. Liu and D. Sun, “Minimizing Energy Consumption of Wheeled Mobile Robots via Optimal Motion Planning,” Journal of IEEE/ASME Transactions on Mechatronics, vol. 19, no. 2, pp. 401-411, April 2014. DOI: 10.1109/TMECH.2013.2241777.\n",
        "\n",
        "[30]\tP. B. Deb, O. Saha, S. Saha, S. Paul, “Dynamic Model Analysis of a DC Motor in MATLAB,” Journal of Scientific & Engineering Research, vol. 8, no. 2, ISSN 2229-5518. pp. 57-60, March 2017.\n"
      ]
    }
  ]
}